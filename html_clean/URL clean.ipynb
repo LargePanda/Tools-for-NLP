{
 "cells": [
  {
   "cell_type": "code",
   "execution_count": 3,
   "metadata": {
    "collapsed": false
   },
   "outputs": [],
   "source": [
    "with open(\"wiki_urls.txt\", \"r\") as f:\n",
    "    for line in f:\n",
    "        l = line"
   ]
  },
  {
   "cell_type": "code",
   "execution_count": 4,
   "metadata": {
    "collapsed": false
   },
   "outputs": [],
   "source": [
    "import urllib2\n",
    "s2 = urllib2.unquote(l)"
   ]
  },
  {
   "cell_type": "code",
   "execution_count": 7,
   "metadata": {
    "collapsed": false
   },
   "outputs": [
    {
     "name": "stdout",
     "output_type": "stream",
     "text": [
      "https://en.wikipedia.org/wiki/University_of_Illinois_at_Urbana%E2%80%93Champaign\n"
     ]
    }
   ],
   "source": [
    "print l"
   ]
  },
  {
   "cell_type": "code",
   "execution_count": 6,
   "metadata": {
    "collapsed": false
   },
   "outputs": [
    {
     "name": "stdout",
     "output_type": "stream",
     "text": [
      "https://en.wikipedia.org/wiki/University_of_Illinois_at_Urbana–Champaign\n"
     ]
    }
   ],
   "source": [
    "print s2"
   ]
  },
  {
   "cell_type": "code",
   "execution_count": 10,
   "metadata": {
    "collapsed": false
   },
   "outputs": [
    {
     "name": "stdout",
     "output_type": "stream",
     "text": [
      "Donald J. Trump on Wednesday scrapped his previously announced plan to go over results from his most recent physical examination in a taped appearance with the television celebrity Dr. Mehmet Oz, aides to the Republican presidential nominee said.\n",
      "\n",
      "\n",
      "\n",
      "Instead, Mr. Trump will appear on the “Dr. Oz Show,” but the two men will have a general discussion about health and wellness, not one anchored to the fitness of one of the two major candidates for president.\n",
      "\n",
      "\n",
      "\n",
      "Mr. Trump has, over many months, sought to raise questions about the health of his Democratic rival, Hillary Clinton, 68, and his supporters have flatly claimed that she is hiding something about her health (her aides have strenuously denied this). But Mr. Trump has answered almost no questions about his own health over the last 15 months of his campaign, except for issuing a highly unusual doctor’s note.\n",
      "\n",
      "\n",
      "\n",
      "So the appearance on Dr. Oz’s show, announced on Friday, had been anticipated as a potential breakthrough, as Mr. Trump’s aides had said that over the next few days he would release results from a physical examination taken last week. It was unclear when those results will be available after the change in approach with Dr. Oz.\n",
      "\n",
      "\n",
      "\n",
      "When Mr. Trump sought someone in a public forum to talk about his health, he went with Dr. Oz, 56, a kindred spirit — a physician who is not only Republican, but also has spent the last decade attracting an enormous following on television.\n"
     ]
    }
   ],
   "source": [
    "with open(\"web_article.txt\", \"r\") as f:\n",
    "    for line in f:\n",
    "        print line"
   ]
  },
  {
   "cell_type": "code",
   "execution_count": 9,
   "metadata": {
    "collapsed": false
   },
   "outputs": [
    {
     "data": {
      "text/plain": [
       "'When Mr. Trump sought someone in a public forum to talk about his health, he went with Dr. Oz, 56, a kindred spirit \\xe2\\x80\\x94 a physician who is not only Republican, but also has spent the last decade attracting an enormous following on television.'"
      ]
     },
     "execution_count": 9,
     "metadata": {},
     "output_type": "execute_result"
    }
   ],
   "source": [
    "l"
   ]
  },
  {
   "cell_type": "code",
   "execution_count": null,
   "metadata": {
    "collapsed": true
   },
   "outputs": [],
   "source": []
  }
 ],
 "metadata": {
  "kernelspec": {
   "display_name": "Python 2",
   "language": "python",
   "name": "python2"
  },
  "language_info": {
   "codemirror_mode": {
    "name": "ipython",
    "version": 2
   },
   "file_extension": ".py",
   "mimetype": "text/x-python",
   "name": "python",
   "nbconvert_exporter": "python",
   "pygments_lexer": "ipython2",
   "version": "2.7.11"
  }
 },
 "nbformat": 4,
 "nbformat_minor": 0
}
