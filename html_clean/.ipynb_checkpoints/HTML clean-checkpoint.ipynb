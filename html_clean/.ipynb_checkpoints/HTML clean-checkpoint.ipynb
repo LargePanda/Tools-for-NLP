{
 "cells": [
  {
   "cell_type": "markdown",
   "metadata": {},
   "source": [
    "# HTML Clean-up Trials"
   ]
  },
  {
   "cell_type": "markdown",
   "metadata": {},
   "source": [
    "### Jiarui Xu , jiaruix@andrew.cmu.edu"
   ]
  },
  {
   "cell_type": "code",
   "execution_count": 34,
   "metadata": {
    "collapsed": true
   },
   "outputs": [],
   "source": [
    "import requests\n",
    "import urllib2\n",
    "from bs4 import BeautifulSoup\n",
    "import re"
   ]
  },
  {
   "cell_type": "markdown",
   "metadata": {},
   "source": [
    "## 1. LTI faculty listing"
   ]
  },
  {
   "cell_type": "code",
   "execution_count": 153,
   "metadata": {
    "collapsed": true
   },
   "outputs": [],
   "source": [
    "url = \"http://www.lti.cs.cmu.edu/directory/all/154/1\""
   ]
  },
  {
   "cell_type": "markdown",
   "metadata": {},
   "source": [
    "### 1.1 Raw HTML"
   ]
  },
  {
   "cell_type": "code",
   "execution_count": 104,
   "metadata": {
    "collapsed": false
   },
   "outputs": [
    {
     "name": "stdout",
     "output_type": "stream",
     "text": [
      "<!DOCTYPE html>\n",
      "<!--[if IEMobile 7]><html class=\"iem7\"  lang=\"en\" dir=\"ltr\"><![endif]-->\n",
      "<!--[if lte IE 6]><html class=\"lt-ie9 lt-ie8 lt-ie7\"  lang=\"en\" dir=\"ltr\"><![endif]-->\n",
      "<!--[if (IE 7)&(!IEMobile)]><html class=\"lt-ie9 lt-ie8\"  lang=\"en\" dir=\"ltr\"><![endif]-->\n",
      "<!--[if IE 8]><html class=\"lt-ie9\"  lang=\"en\" dir=\"ltr\"><![endif]-->\n",
      "<!--[if (gte IE 9)|(gt IEMobile 7)]><!--><html  lang=\"en\" dir=\"ltr\"><!--<![endif]-->\n",
      "\n",
      "<head>\n",
      "  <meta charset=\"utf-8\" />\n",
      "<link rel=\"shortcut icon\" href=\"http://www.lti.cs.cmu.edu/sites/default/files/favicon.ico\" type=\"image/vnd.microsoft.icon\" />\n",
      "<meta name=\"Generator\" content=\"Drupal 7 (http://drupal.org)\" />\n",
      "  \n",
      "  <title>Language Technologies Institute - Faculty | Carnegie Mellon University - Language Technologies Institute</title>\n",
      "\n",
      "      <meta name=\"MobileOptimized\" content=\"width\">\n",
      "    <meta name=\"HandheldFriendly\" content=\"true\">\n",
      "    <meta name=\"viewport\" content=\"width=device-width\">\n",
      "    <!--[if IEMobile]><meta http-equiv=\"cleartype\" content=\"on\"><![endif]-->\n",
      "\n",
      "  <link type=\"text/css\" rel=\"stylesheet\" href=\"http://www.lti.cs.cmu.edu/sites/default/files/css/css_lQaZfjVpwP_oGNqdtWCSpJT1EMqXdMiU84ekLLxQnc4.css\" media=\"all\" />\n",
      "<link type=\"text/css\" rel=\"stylesheet\" href=\"http://www.lti.cs.cmu.edu/sites/default/files/css/css_JPPaRuD6EJoC5bvtebwp2ghP_u5smoFMXW2h2WKbSHM.css\" media=\"all\" />\n",
      "<link type=\"text/css\" rel=\"stylesheet\" href=\"http://www.lti.cs.cmu.edu/sites/default/files/css/css_MnXiytJtb186Ydycnpwpw34cuUsHaKc80ey5LiQXhSY.css\" media=\"all\" />\n",
      "<style>#back-top{right:40px;}#back-top span#button{background-color:#CCCCCC;}#back-top span#button:hover{opacity:1;filter:alpha(opacity = 1);background-color:#777777;}\n",
      "</style>\n",
      "<link type=\"text/css\" rel=\"stylesheet\" href=\"http://www.lti.cs.cmu.edu/sites/default/files/css/css_E9Npax2107kt3keOUGm1jwEkNnSJe67i08Fc1T2PEL0.css\" media=\"all\" />\n",
      "<link type=\"text/css\" rel=\"stylesheet\" href=\"http://www.lti.cs.cmu.edu/sites/default/files/css/css_CF3oY1Q1IUpY4CWtYVs7kH_yogemOxAYSeeNeaQD6ds.css\" media=\"all\" />\n",
      "<link type=\"text/css\" rel=\"stylesheet\" href=\"https://maxcdn.bootstrapcdn.com/font-awesome/4.1.0/css/font-awesome.min.css?o9hae4\" media=\"all\" />\n",
      "<link type=\"text/css\" rel=\"stylesheet\" href=\"https://fonts.googleapis.com/css?family=Raleway&amp;o9hae4\" media=\"all\" />\n",
      "  <script src=\"http://www.lti.cs.cmu.edu/sites/all/modules/jquery_update/replace/jquery/1.8/jquery.js?v=1.8.3\"></script>\n",
      "<script src=\"http://www.lti.cs.cmu.edu/misc/jquery.once.js?v=1.2\"></script>\n",
      "<script src=\"http://www.lti.cs.cmu.edu/misc/drupal.js?o9hae4\"></script>\n",
      "<script src=\"http://www.lti.cs.cmu.edu/sites/all/modules/jquery_dollar/jquery_dollar.js?o9hae4\"></script>\n",
      "<script src=\"http://www.lti.cs.cmu.edu/sites/all/libraries/fitvids/jquery.fitvids.js?o9hae4\"></script>\n",
      "<script src=\"http://www.lti.cs.cmu.edu/misc/form.js?v=7.44\"></script>\n",
      "<script src=\"http://www.lti.cs.cmu.edu/sites/all/modules/fitvids/fitvids.js?o9hae4\"></script>\n",
      "<script src=\"http://www.lti.cs.cmu.edu/sites/all/modules/floating_block/floating_block.js?o9hae4\"></script>\n",
      "<script src=\"http://www.lti.cs.cmu.edu/sites/all/modules/scroll_to_top/scroll_to_top.js?o9hae4\"></script>\n",
      "<script src=\"http://www.lti.cs.cmu.edu/sites/all/modules/responsive_menus/styles/responsive_menus_simple/js/responsive_menus_simple.js?o9hae4\"></script>\n",
      "<script src=\"http://www.lti.cs.cmu.edu/sites/all/modules/google_analytics/googleanalytics.js?o9hae4\"></script>\n",
      "<script>(function(i,s,o,g,r,a,m){i[\"GoogleAnalyticsObject\"]=r;i[r]=i[r]||function(){(i[r].q=i[r].q||[]).push(arguments)},i[r].l=1*new Date();a=s.createElement(o),m=s.getElementsByTagName(o)[0];a.async=1;a.src=g;m.parentNode.insertBefore(a,m)})(window,document,\"script\",\"//www.google-analytics.com/analytics.js\",\"ga\");ga(\"create\", \"UA-51595905-1\", {\"cookieDomain\":\"auto\"});ga(\"send\", \"pageview\");</script>\n",
      "<script src=\"http://www.lti.cs.cmu.edu/sites/all/modules/piwik/piwik.js?o9hae4\"></script>\n",
      "<script>var _paq = _paq || [];(function(){var u=((\"https:\" == document.location.protocol) ? \"https://rich.srv.cs.cmu.edu/analytics/\" : \"https://rich.srv.cs.cmu.edu/analytics/\");_paq.push([\"setSiteId\", \"5\"]);_paq.push([\"setTrackerUrl\", u+\"piwik.php\"]);_paq.push([\"setDoNotTrack\", 1]);_paq.push([\"trackPageView\"]);_paq.push([\"setIgnoreClasses\", [\"no-tracking\",\"colorbox\"]]);_paq.push([\"enableLinkTracking\"]);var d=document,g=d.createElement(\"script\"),s=d.getElementsByTagName(\"script\")[0];g.type=\"text/javascript\";g.defer=true;g.async=true;g.src=u+\"piwik.js\";s.parentNode.insertBefore(g,s);})();</script>\n",
      "<script src=\"http://www.lti.cs.cmu.edu/misc/collapse.js?v=7.44\"></script>\n",
      "<script src=\"http://www.lti.cs.cmu.edu/sites/all/libraries/superfish/jquery.hoverIntent.minified.js?o9hae4\"></script>\n",
      "<script src=\"http://www.lti.cs.cmu.edu/sites/all/libraries/superfish/supposition.js?o9hae4\"></script>\n",
      "<script src=\"http://www.lti.cs.cmu.edu/sites/all/libraries/superfish/superfish.js?o9hae4\"></script>\n",
      "<script src=\"http://www.lti.cs.cmu.edu/sites/all/libraries/superfish/supersubs.js?o9hae4\"></script>\n",
      "<script src=\"http://www.lti.cs.cmu.edu/sites/all/modules/superfish/superfish.js?o9hae4\"></script>\n",
      "<script src=\"http://www.lti.cs.cmu.edu/sites/all/themes/lti2015/js/jquery.sticky.js?o9hae4\"></script>\n",
      "<script src=\"http://www.lti.cs.cmu.edu/sites/all/themes/lti2015/js/jquery.matchHeight.js?o9hae4\"></script>\n",
      "<script src=\"http://www.lti.cs.cmu.edu/sites/all/themes/lti2015/js/sticky.js?o9hae4\"></script>\n",
      "<script src=\"http://www.lti.cs.cmu.edu/sites/all/themes/lti2015/js/jQueryRotate.js?o9hae4\"></script>\n",
      "<script src=\"http://www.lti.cs.cmu.edu/sites/all/themes/lti2015/js/jquery-ui/jquery-ui.js?o9hae4\"></script>\n",
      "<script src=\"http://www.lti.cs.cmu.edu/sites/all/themes/lti2015/js/jquery.vegas.js?o9hae4\"></script>\n",
      "<script>jQuery.extend(Drupal.settings, {\"basePath\":\"\\/\",\"pathPrefix\":\"\",\"ajaxPageState\":{\"theme\":\"lti2015\",\"theme_token\":\"tsppQ8AwXnyiAWP43i5WWSEZaiHZBWm5h877_LnQN1U\",\"js\":{\"sites\\/all\\/modules\\/jquery_update\\/replace\\/jquery\\/1.8\\/jquery.js\":1,\"misc\\/jquery.once.js\":1,\"misc\\/drupal.js\":1,\"sites\\/all\\/modules\\/jquery_dollar\\/jquery_dollar.js\":1,\"sites\\/all\\/libraries\\/fitvids\\/jquery.fitvids.js\":1,\"misc\\/form.js\":1,\"sites\\/all\\/modules\\/fitvids\\/fitvids.js\":1,\"sites\\/all\\/modules\\/floating_block\\/floating_block.js\":1,\"sites\\/all\\/modules\\/scroll_to_top\\/scroll_to_top.js\":1,\"sites\\/all\\/modules\\/responsive_menus\\/styles\\/responsive_menus_simple\\/js\\/responsive_menus_simple.js\":1,\"sites\\/all\\/modules\\/google_analytics\\/googleanalytics.js\":1,\"0\":1,\"sites\\/all\\/modules\\/piwik\\/piwik.js\":1,\"1\":1,\"misc\\/collapse.js\":1,\"sites\\/all\\/libraries\\/superfish\\/jquery.hoverIntent.minified.js\":1,\"sites\\/all\\/libraries\\/superfish\\/supposition.js\":1,\"sites\\/all\\/libraries\\/superfish\\/superfish.js\":1,\"sites\\/all\\/libraries\\/superfish\\/supersubs.js\":1,\"sites\\/all\\/modules\\/superfish\\/superfish.js\":1,\"sites\\/all\\/themes\\/lti2015\\/js\\/jquery.sticky.js\":1,\"sites\\/all\\/themes\\/lti2015\\/js\\/jquery.matchHeight.js\":1,\"sites\\/all\\/themes\\/lti2015\\/js\\/sticky.js\":1,\"sites\\/all\\/themes\\/lti2015\\/js\\/jQueryRotate.js\":1,\"sites\\/all\\/themes\\/lti2015\\/js\\/jquery-ui\\/jquery-ui.js\":1,\"sites\\/all\\/themes\\/lti2015\\/js\\/jquery.vegas.js\":1},\"css\":{\"modules\\/system\\/system.base.css\":1,\"modules\\/system\\/system.menus.css\":1,\"modules\\/system\\/system.messages.css\":1,\"modules\\/system\\/system.theme.css\":1,\"sites\\/all\\/modules\\/scroll_to_top\\/scroll_to_top.css\":1,\"sites\\/all\\/modules\\/calendar\\/css\\/calendar_multiday.css\":1,\"sites\\/all\\/modules\\/date\\/date_api\\/date.css\":1,\"sites\\/all\\/modules\\/date\\/date_popup\\/themes\\/datepicker.1.7.css\":1,\"sites\\/all\\/modules\\/date\\/date_repeat_field\\/date_repeat_field.css\":1,\"modules\\/field\\/theme\\/field.css\":1,\"sites\\/all\\/modules\\/fitvids\\/fitvids.css\":1,\"sites\\/all\\/modules\\/menu_attach_block\\/menu_attach_block.css\":1,\"modules\\/node\\/node.css\":1,\"modules\\/search\\/search.css\":1,\"modules\\/user\\/user.css\":1,\"sites\\/all\\/modules\\/views\\/css\\/views.css\":1,\"sites\\/all\\/modules\\/ctools\\/css\\/ctools.css\":1,\"0\":1,\"sites\\/all\\/modules\\/biblio\\/biblio.css\":1,\"sites\\/all\\/modules\\/responsive_menus\\/styles\\/responsive_menus_simple\\/css\\/responsive_menus_simple.css\":1,\"sites\\/all\\/libraries\\/superfish\\/css\\/superfish.css\":1,\"sites\\/all\\/themes\\/lti2015\\/system.menus.css\":1,\"sites\\/all\\/themes\\/lti2015\\/system.messages.css\":1,\"sites\\/all\\/themes\\/lti2015\\/system.theme.css\":1,\"sites\\/all\\/themes\\/lti2015\\/css\\/styles.css\":1,\"https:\\/\\/maxcdn.bootstrapcdn.com\\/font-awesome\\/4.1.0\\/css\\/font-awesome.min.css\":1,\"https:\\/\\/fonts.googleapis.com\\/css?family=Raleway\":1}},\"floating_block\":{\"settings\":{\"#block-menu-menu-admissions-deadlines\":[],\"#block-menu-menu-doctoral-subnav\":[],\"#block-menu-menu-master-s-subnav\":[],\"#back-top\":[]},\"minWidth\":0},\"scroll_to_top\":{\"label\":\"\"},\"fitvids\":{\"custom_domains\":[],\"selectors\":[\"body\"],\"simplifymarkup\":true},\"responsive_menus\":[{\"toggler_text\":\"\\u2630 Menu\",\"selectors\":[\"#block-menu-menu-utility-menu\"],\"media_size\":\"768\",\"absolute\":true,\"remove_attributes\":true,\"responsive_menus_style\":\"responsive_menus_simple\"}],\"googleanalytics\":{\"trackOutbound\":1,\"trackMailto\":1,\"trackDownload\":1,\"trackDownloadExtensions\":\"7z|aac|arc|arj|asf|asx|avi|bin|csv|doc(x|m)?|dot(x|m)?|exe|flv|gif|gz|gzip|hqx|jar|jpe?g|js|mp(2|3|4|e?g)|mov(ie)?|msi|msp|pdf|phps|png|ppt(x|m)?|pot(x|m)?|pps(x|m)?|ppam|sld(x|m)?|thmx|qtm?|ra(m|r)?|sea|sit|tar|tgz|torrent|txt|wav|wma|wmv|wpd|xls(x|m|b)?|xlt(x|m)|xlam|xml|z|zip\"},\"piwik\":{\"trackMailto\":1},\"superfish\":{\"1\":{\"id\":\"1\",\"sf\":{\"pathLevels\":\"2\",\"delay\":\"900\",\"animation\":{\"opacity\":\"show\",\"height\":\"show\"},\"speed\":\"\\u0027fast\\u0027\",\"autoArrows\":false,\"dropShadows\":false,\"disableHI\":false},\"plugins\":{\"supposition\":true,\"bgiframe\":false,\"supersubs\":{\"minWidth\":\"12\",\"maxWidth\":\"27\",\"extraWidth\":1}}}},\"urlIsAjaxTrusted\":{\"\\/directory\\/all\\/154\\/1\":true}});</script>\n",
      "      <!--[if lt IE 9]>\n",
      "    <script src=\"/sites/all/themes/zen/js/html5-respond.js\"></script>\n",
      "    <![endif]-->\n",
      "  \n",
      "  \n",
      "         \n",
      " \n",
      "</head>\n",
      "<body class=\"html not-front not-logged-in no-sidebars page-directory page-directory-all page-directory-all- page-directory-all-154 page-directory-all- page-directory-all-1 section-directory page-views\" >\n",
      "      <p id=\"skip-link\">\n",
      "      <a href=\"#main-menu\" class=\"element-invisible element-focusable\">Jump to navigation</a>\n",
      "    </p>\n",
      "      \n",
      "<div id=\"page\">\n",
      "\n",
      "  <header class=\"header clearfix\" >\n",
      "        <div class=\"header__region region region-header\">\n",
      "    <div id=\"block-menu-menu-utility-menu\" class=\"block block-menu first last odd\" role=\"navigation\">\n",
      "\n",
      "      \n",
      "  <ul class=\"menu\"><li class=\"menu__item is-leaf first leaf\"><a href=\"/learn\" id=\"learn\" class=\"menu__link\">Learn</a></li>\n",
      "<li class=\"menu__item is-leaf leaf\"><a href=\"/work\" id=\"explore\" class=\"menu__link\">Explore</a></li>\n",
      "<li class=\"menu__item is-leaf leaf\"><a href=\"/collaborate\" id=\"collaborate\" class=\"menu__link\">Collaborate</a></li>\n",
      "<li class=\"menu__item is-leaf leaf\"><a href=\"/directory/all\" class=\"menu__link\">People</a></li>\n",
      "<li class=\"menu__item is-leaf leaf\"><a href=\"/news\" class=\"menu__link\">News</a></li>\n",
      "<li class=\"menu__item is-leaf leaf\"><a href=\"/calendar\" class=\"menu__link\">Events</a></li>\n",
      "<li class=\"menu__item is-leaf leaf\"><a href=\"http://lti.cs.cmu.edu/intranet\" class=\"menu__link\">LTI Intranet</a></li>\n",
      "<li class=\"menu__item is-leaf leaf\"><a href=\"/contact-us\" class=\"menu__link\">Contact Us</a></li>\n",
      "<li class=\"menu__item is-leaf leaf\"><a href=\"/news/lti-hiring\" class=\"menu__link\">Careers</a></li>\n",
      "<li class=\"menu__item is-leaf last leaf\"><a href=\"/apply-lti\" class=\"menu__link\">Apply</a></li>\n",
      "</ul>\n",
      "</div>\n",
      "  </div>\n",
      "  </header>\n",
      "  <div id=\"nav\" class=\"navigation\">\n",
      "        <div class=\"region region-navigation\">\n",
      "    <div id=\"block-block-6\" class=\"block block-block first odd\">\n",
      "\n",
      "      \n",
      "  <a href=\"/\" class=\"no_icon\"><img src=\"/sites/all/themes/lti2015/images/ltilogo.png\"></a>\n",
      "</div>\n",
      "<div id=\"block-superfish-1\" class=\"block block-superfish even\">\n",
      "\n",
      "      \n",
      "  <ul id=\"superfish-1\" class=\"menu sf-menu sf-main-menu sf-horizontal sf-style-none sf-total-items-3 sf-parent-items-0 sf-single-items-3\"><li id=\"menu-218-1\" class=\"first odd sf-item-1 sf-depth-1 sf-no-children\"><a href=\"/learn\" class=\"sf-depth-1\">Academics</a></li><li id=\"menu-6031-1\" class=\"middle even sf-item-2 sf-depth-1 sf-no-children\"><a href=\"/work\" class=\"sf-depth-1\">Research</a></li><li id=\"menu-6032-1\" class=\"last odd sf-item-3 sf-depth-1 sf-no-children\"><a href=\"/collaborate\" class=\"sf-depth-1\">Partnership</a></li></ul>\n",
      "</div>\n",
      "<div id=\"block-search-form\" class=\"block block-search last odd\" role=\"search\">\n",
      "\n",
      "      \n",
      "  <form action=\"/directory/all/154/1\" method=\"post\" id=\"search-block-form\" accept-charset=\"UTF-8\"><div><div class=\"container-inline\">\n",
      "      <h2 class=\"element-invisible\">Search form</h2>\n",
      "    <div class=\"form-item form-type-textfield form-item-search-block-form\">\n",
      "  <label class=\"element-invisible\" for=\"edit-search-block-form--2\">Search </label>\n",
      " <input title=\"Enter the terms you wish to search for.\" type=\"text\" id=\"edit-search-block-form--2\" name=\"search_block_form\" value=\"\" size=\"15\" maxlength=\"128\" class=\"form-text\" />\n",
      "</div>\n",
      "<div class=\"form-actions form-wrapper\" id=\"edit-actions\"><input type=\"submit\" id=\"edit-submit\" name=\"op\" value=\"Search\" class=\"form-submit\" /></div><input type=\"hidden\" name=\"form_build_id\" value=\"form-SSGJ54pf-lmuhu_PNxX_BCkJ-7AHS6fodk8XaiQ9TMQ\" />\n",
      "<input type=\"hidden\" name=\"form_id\" value=\"search_block_form\" />\n",
      "</div>\n",
      "</div></form>\n",
      "</div>\n",
      "  </div>\n",
      "\n",
      "  </div>\n",
      "  <div id=\"highlighted\">\n",
      "      </div>\n",
      "  <div class=\"title_bar\">\n",
      "              <h1 class=\"page__title title\" id=\"page-title\">Language Technologies Institute - Faculty</h1>\n",
      "              </div>    \n",
      "  <div id=\"main\">\n",
      "\n",
      "    <div id=\"content\" class=\"column\" role=\"main\">\n",
      "\n",
      "     \n",
      "            <a id=\"main-content\"></a>\n",
      "      \n",
      "                              \n",
      "<div id=\"block-menu-menu-directory-menu\" class=\"block block-menu first odd\" role=\"navigation\">\n",
      "\n",
      "      \n",
      "  <ul class=\"menu\"><li class=\"menu__item is-leaf is-active-trail first leaf active-trail\" id=\"faculty\"><a href=\"/directory/all/154/1\" class=\"menu__link is-active-trail active-trail active\">Faculty</a></li>\n",
      "<li class=\"menu__item is-leaf leaf\" id=\"staff\"><a href=\"/directory/all/154/2\" class=\"menu__link\">Staff</a></li>\n",
      "<li class=\"menu__item is-leaf leaf\" id=\"students\"><a href=\"/directory/students/current/all\" class=\"menu__link\">Students/Alumni</a></li>\n",
      "<li class=\"menu__item is-leaf last leaf\" id=\"visitors\"><a href=\"/directory/all/154/2729\" class=\"menu__link\">Visitors</a></li>\n",
      "</ul>\n",
      "</div>\n",
      "<div id=\"block-menu-menu-faculty-submenu\" class=\"block block-menu even\" role=\"navigation\">\n",
      "\n",
      "      \n",
      "  <ul class=\"menu\"><li class=\"menu__item is-leaf is-active-trail first leaf active-trail\" id=\"all-faculty\"><a href=\"/directory/all/154/1\" class=\"menu__link is-active-trail active-trail active\">Faculty</a></li>\n",
      "<li class=\"menu__item is-leaf leaf\" id=\"affiliated-faculty\"><a href=\"/directory/all/154/2728\" class=\"menu__link\">Affiliated Faculty</a></li>\n",
      "<li class=\"menu__item is-leaf last leaf\" id=\"adjunct-faculty\"><a href=\"/directory/all/154/200\" class=\"menu__link\">Adjunct Faculty</a></li>\n",
      "</ul>\n",
      "</div>\n",
      "\n",
      "\n",
      "<div class=\"view view-people-pages-and-attachments view-id-people_pages_and_attachments view-display-id-page_15 view-dom-id-c962f7dddb3130b842973a3f684dccd2\">\n",
      "            <div class=\"view-header\">\n",
      "      <span class=\"alpha\"><a href=\"/directory/a/154/1\">A</a></span> <span class=\"alpha\"><a href=\"/directory/b/154/1\">B</a></span> <span class=\"alpha\"><a href=\"/directory/c/154/1\">C</a></span> <span class=\"alpha\"><a href=\"/directory/d/154/1\">D</a></span> <span class=\"alpha\"><a href=\"/directory/e/154/1\">E</a></span> <span class=\"alpha\"><a href=\"/directory/f/154/1\">F</a></span> <span class=\"alpha\"><a href=\"/directory/g/154/1\">G</a></span> <span class=\"alpha\"><a href=\"/directory/h/154/1\">H</a></span> <span class=\"alpha\"><a href=\"/directory/i/154/1\">I</a></span> <span class=\"alpha\"><a href=\"/directory/j/154/1\">J</a></span> <span class=\"alpha\"><a href=\"/directory/k/154/1\">K</a></span> <span class=\"alpha\"><a href=\"/directory/l/154/1\">L</a></span> <span class=\"alpha\"><a href=\"/directory/m/154/1\">M</a></span> <span class=\"alpha\"><a href=\"/directory/n/154/1\">N</a></span> <span class=\"alpha\"><a href=\"/directory/o/154/1\">O</a></span> <span class=\"alpha\"><a href=\"/directory/p/154/1\">P</a></span> <span class=\"alpha\"><a href=\"/directory/q/154/1\">Q</a></span> <span class=\"alpha\"><a href=\"/directory/r/154/1\">R</a></span> <span class=\"alpha\"><a href=\"/directory/s/154/1\">S</a></span> <span class=\"alpha\"><a href=\"/directory/t/154/1\">T</a></span> <span class=\"alpha\"><a href=\"/directory/u/154/1\">U</a></span> <span class=\"alpha\"><a href=\"/directory/v/154/1\">V</a></span> <span class=\"alpha\"><a href=\"/directory/w/154/1\">W</a></span> <span class=\"alpha\"><a href=\"/directory/x/154/1\">X</a></span> <span class=\"alpha\"><a href=\"/directory/y/154/1\">Y</a></span> <span class=\"alpha\"><a href=\"/directory/z/154/1\">Z</a></span>    </div>\n",
      "  \n",
      "  \n",
      "  \n",
      "      <div class=\"view-content\">\n",
      "      <table class=\"views-view-grid cols-2\">\n",
      "  \n",
      "  <tbody>\n",
      "          <tr class=\"row-1 row-first\">\n",
      "                  <td class=\"col-1 col-first\">\n",
      "              \n",
      "  <div class=\"views-field views-field-field-photo\">        <div class=\"field-content\"><a href=\"/people/15924/james-baker\"><img src=\"http://www.lti.cs.cmu.edu/sites/default/files/styles/directory_thumb/public/Baker%2CJames.jpg?itok=waZgWLsy\" width=\"100\" height=\"150\" alt=\"\" /></a></div>  </div>  \n",
      "  <div class=\"views-field views-field-nothing\">        <span class=\"field-content\"><a href=\"/people/15924/james-baker\"><h2>James Baker</h2></a></span>  </div>  \n",
      "  <div class=\"views-field views-field-field-computed-prof-title\">        <div class=\"field-content\">Distinguished Career Professor</div>  </div>  \n",
      "  <div>    <span class=\"label\">Email: </span>    <a href=\"mailto:jkbaker@andrew.cmu.edu\">jkbaker@andrew.cmu.edu</a>  </div>  \n",
      "  <div class=\"views-field views-field-field-computed-building\">    <span class=\"views-label views-label-field-computed-building label\">Office: </span>    6703 Gates &amp; Hillman Centers  </div>  \n",
      "  <div class=\"views-field views-field-field-computed-phone\">    <span class=\"views-label views-label-field-computed-phone label\">Phone: </span>    412-268-9859  </div>          </td>\n",
      "                  <td class=\"col-2 col-last\">\n",
      "              \n",
      "  <div class=\"views-field views-field-field-photo\">        <div class=\"field-content\"><a href=\"/people/222217663/taylor-berg-kirkpatrick\"><img src=\"http://www.lti.cs.cmu.edu/sites/default/files/styles/directory_thumb/public/DSCF1107a.jpg?itok=W2wdE4gq\" width=\"100\" height=\"150\" alt=\"\" /></a></div>  </div>  \n",
      "  <div class=\"views-field views-field-nothing\">        <span class=\"field-content\"><a href=\"/people/222217663/taylor-berg-kirkpatrick\"><h2>Taylor Berg-Kirkpatrick</h2></a></span>  </div>  \n",
      "  <div class=\"views-field views-field-field-computed-prof-title\">        <div class=\"field-content\">Assistant Professor</div>  </div>  \n",
      "  <div>    <span class=\"label\">Email: </span>    <a href=\"mailto:tberg@cs.cmu.edu\">tberg@cs.cmu.edu</a>  </div>  \n",
      "  <div class=\"views-field views-field-field-computed-building\">    <span class=\"views-label views-label-field-computed-building label\">Office: </span>    6403 Gates &amp; Hillman Centers  </div>          </td>\n",
      "              </tr>\n",
      "          <tr class=\"row-2\">\n",
      "                  <td class=\"col-1 col-first\">\n",
      "              \n",
      "  <div class=\"views-field views-field-field-photo\">        <div class=\"field-content\"><a href=\"/people/17761/jeffrey-bigham\"><img src=\"http://www.lti.cs.cmu.edu/sites/default/files/styles/directory_thumb/public/Bigham_Jeffrey.jpg?itok=xMIaXPNE\" width=\"100\" height=\"150\" alt=\"\" /></a></div>  </div>  \n",
      "  <div class=\"views-field views-field-nothing\">        <span class=\"field-content\"><a href=\"/people/17761/jeffrey-bigham\"><h2>Jeffrey Bigham</h2></a></span>  </div>  \n",
      "  <div class=\"views-field views-field-field-computed-prof-title\">        <div class=\"field-content\">Associate Professor</div>  </div>  \n",
      "  <div>    <span class=\"label\">Email: </span>    <a href=\"mailto:jbigham@andrew.cmu.edu\">jbigham@andrew.cmu.edu</a>  </div>  \n",
      "  <div class=\"views-field views-field-field-computed-building\">    <span class=\"views-label views-label-field-computed-building label\">Office: </span>    3525 Newell-Simon Hall  </div>  \n",
      "  <div class=\"views-field views-field-field-computed-phone\">    <span class=\"views-label views-label-field-computed-phone label\">Phone: </span>    412-945-0708  </div>          </td>\n",
      "                  <td class=\"col-2 col-last\">\n",
      "              \n",
      "  <div class=\"views-field views-field-field-photo\">        <div class=\"field-content\"><a href=\"/people/15686/alan-black\"><img src=\"http://www.lti.cs.cmu.edu/sites/default/files/styles/directory_thumb/public/Black_Alan_1.jpg?itok=5GcQ4BCa\" width=\"100\" height=\"150\" alt=\"Alan Black\" title=\"Alan Black\" /></a></div>  </div>  \n",
      "  <div class=\"views-field views-field-nothing\">        <span class=\"field-content\"><a href=\"/people/15686/alan-black\"><h2>Alan Black</h2></a></span>  </div>  \n",
      "  <div class=\"views-field views-field-field-computed-prof-title\">        <div class=\"field-content\">Professor</div>  </div>  \n",
      "  <div>    <span class=\"label\">Email: </span>    <a href=\"mailto:awb@cs.cmu.edu\">awb@cs.cmu.edu</a>  </div>  \n",
      "  <div class=\"views-field views-field-field-computed-building\">    <span class=\"views-label views-label-field-computed-building label\">Office: </span>    5701 Gates &amp; Hillman Centers  </div>  \n",
      "  <div class=\"views-field views-field-field-computed-phone\">    <span class=\"views-label views-label-field-computed-phone label\">Phone: </span>    412-268-6299  </div>  \n",
      "  <div class=\"views-field views-field-field-research-areas\">    <span class=\"views-label views-label-field-research-areas label\">Research Areas: </span>    Machine Translation, Speech Processing, Spoken Interfaces and Dialogue Processing  </div>          </td>\n",
      "              </tr>\n",
      "          <tr class=\"row-3\">\n",
      "                  <td class=\"col-1 col-first\">\n",
      "              \n",
      "  <div class=\"views-field views-field-field-photo\">        <div class=\"field-content\"><a href=\"/people/15460/ralf-brown\"><img src=\"http://www.lti.cs.cmu.edu/sites/default/files/styles/directory_thumb/public/Brown_Ralf.jpg?itok=EMhjDvI-\" width=\"100\" height=\"150\" alt=\"Ralf Brown\" title=\"Ralf Brown\" /></a></div>  </div>  \n",
      "  <div class=\"views-field views-field-nothing\">        <span class=\"field-content\"><a href=\"/people/15460/ralf-brown\"><h2>Ralf Brown</h2></a></span>  </div>  \n",
      "  <div class=\"views-field views-field-field-computed-prof-title\">        <div class=\"field-content\">Senior Systems Scientist/Chair of Admissions</div>  </div>  \n",
      "  <div>    <span class=\"label\">Email: </span>    <a href=\"mailto:ralf@andrew.cmu.edu\">ralf@andrew.cmu.edu</a>  </div>  \n",
      "  <div class=\"views-field views-field-field-computed-building\">    <span class=\"views-label views-label-field-computed-building label\">Office: </span>    5711 Gates &amp; Hillman Centers  </div>  \n",
      "  <div class=\"views-field views-field-field-computed-phone\">    <span class=\"views-label views-label-field-computed-phone label\">Phone: </span>    412-268-8298  </div>  \n",
      "  <div class=\"views-field views-field-field-research-areas\">    <span class=\"views-label views-label-field-research-areas label\">Research Areas: </span>    Information Extraction, Summarization and Question Answering, Information Retrieval, Text Mining and Analytics, Machine Translation, Natural Language Processing and Computational Linguistics  </div>          </td>\n",
      "                  <td class=\"col-2 col-last\">\n",
      "              \n",
      "  <div class=\"views-field views-field-field-photo\">        <div class=\"field-content\"><a href=\"/people/15704/jamie-callan\"><img src=\"http://www.lti.cs.cmu.edu/sites/default/files/styles/directory_thumb/public/Callan_Jamie.jpg?itok=pHYf8tgz\" width=\"100\" height=\"150\" alt=\"Jamie Callan\" title=\"Jamie Callan\" /></a></div>  </div>  \n",
      "  <div class=\"views-field views-field-nothing\">        <span class=\"field-content\"><a href=\"/people/15704/jamie-callan\"><h2>Jamie Callan</h2></a></span>  </div>  \n",
      "  <div class=\"views-field views-field-field-computed-prof-title\">        <div class=\"field-content\">Professor</div>  </div>  \n",
      "  <div>    <span class=\"label\">Email: </span>    <a href=\"mailto:callan@cs.cmu.edu\">callan@cs.cmu.edu</a>  </div>  \n",
      "  <div class=\"views-field views-field-field-computed-building\">    <span class=\"views-label views-label-field-computed-building label\">Office: </span>    5419 Gates &amp; Hillman Centers  </div>  \n",
      "  <div class=\"views-field views-field-field-computed-phone\">    <span class=\"views-label views-label-field-computed-phone label\">Phone: </span>    412-268-4525  </div>  \n",
      "  <div class=\"views-field views-field-field-research-areas\">    <span class=\"views-label views-label-field-research-areas label\">Research Areas: </span>    Information Retrieval, Text Mining and Analytics  </div>          </td>\n",
      "              </tr>\n",
      "          <tr class=\"row-4\">\n",
      "                  <td class=\"col-1 col-first\">\n",
      "              \n",
      "  <div class=\"views-field views-field-field-photo\">        <div class=\"field-content\"><a href=\"/people/15336/jaime-carbonell\"><img src=\"http://www.lti.cs.cmu.edu/sites/default/files/styles/directory_thumb/public/Carbonell_Jaime.jpg?itok=Fjw7JdZa\" width=\"100\" height=\"150\" alt=\"Jaime Carbonell\" title=\"Jaime Carbonell\" /></a></div>  </div>  \n",
      "  <div class=\"views-field views-field-nothing\">        <span class=\"field-content\"><a href=\"/people/15336/jaime-carbonell\"><h2>Jaime Carbonell</h2></a></span>  </div>  \n",
      "  <div class=\"views-field views-field-field-computed-prof-title\">        <div class=\"field-content\">LTI Director/Professor of CS and LTI</div>  </div>  \n",
      "  <div>    <span class=\"label\">Email: </span>    <a href=\"mailto:jgc@cs.cmu.edu\">jgc@cs.cmu.edu</a>  </div>  \n",
      "  <div class=\"views-field views-field-field-computed-building\">    <span class=\"views-label views-label-field-computed-building label\">Office: </span>    6721 Gates &amp; Hillman Centers  </div>  \n",
      "  <div class=\"views-field views-field-field-computed-phone\">    <span class=\"views-label views-label-field-computed-phone label\">Phone: </span>    412-268-7279  </div>          </td>\n",
      "                  <td class=\"col-2 col-last\">\n",
      "              \n",
      "  <div class=\"views-field views-field-field-photo\">        <div class=\"field-content\"><a href=\"/people/16529/justine-cassell\"><img src=\"http://www.lti.cs.cmu.edu/sites/default/files/styles/directory_thumb/public/Cassell_Justine.jpg?itok=fOtRnXyQ\" width=\"100\" height=\"150\" alt=\"Justine Cassell\" title=\"Justine Cassell\" /></a></div>  </div>  \n",
      "  <div class=\"views-field views-field-nothing\">        <span class=\"field-content\"><a href=\"/people/16529/justine-cassell\"><h2>Justine Cassell</h2></a></span>  </div>  \n",
      "  <div class=\"views-field views-field-field-computed-prof-title\">        <div class=\"field-content\">Associate Dean for Technology Strategy and Impact in the School of Computer Science at Carnegie Mellon</div>  </div>  \n",
      "  <div>    <span class=\"label\">Email: </span>    <a href=\"mailto:jcassell@andrew.cmu.edu\">jcassell@andrew.cmu.edu</a>  </div>  \n",
      "  <div class=\"views-field views-field-field-computed-building\">    <span class=\"views-label views-label-field-computed-building label\">Office: </span>    4109 Gates &amp; Hillman Centers  </div>  \n",
      "  <div class=\"views-field views-field-field-computed-phone\">    <span class=\"views-label views-label-field-computed-phone label\">Phone: </span>    412-204-6268  </div>          </td>\n",
      "              </tr>\n",
      "          <tr class=\"row-5\">\n",
      "                  <td class=\"col-1 col-first\">\n",
      "              \n",
      "  <div class=\"views-field views-field-field-photo\">        <div class=\"field-content\"><a href=\"/people/15779/william-cohen\"><img src=\"http://www.lti.cs.cmu.edu/sites/default/files/styles/directory_thumb/public/Cohen_William.jpg?itok=VGmEhh49\" width=\"100\" height=\"150\" alt=\"William Cohen\" title=\"William Cohen\" /></a></div>  </div>  \n",
      "  <div class=\"views-field views-field-nothing\">        <span class=\"field-content\"><a href=\"/people/15779/william-cohen\"><h2>William Cohen</h2></a></span>  </div>  \n",
      "  <div class=\"views-field views-field-field-computed-prof-title\">        <div class=\"field-content\">Professor</div>  </div>  \n",
      "  <div>    <span class=\"label\">Email: </span>    <a href=\"mailto:wcohen@cs.cmu.edu\">wcohen@cs.cmu.edu</a>  </div>  \n",
      "  <div class=\"views-field views-field-field-computed-building\">    <span class=\"views-label views-label-field-computed-building label\">Office: </span>    8217 Gates &amp; Hillman Centers  </div>  \n",
      "  <div class=\"views-field views-field-field-computed-phone\">    <span class=\"views-label views-label-field-computed-phone label\">Phone: </span>    412-268-7664  </div>          </td>\n",
      "                  <td class=\"col-2 col-last\">\n",
      "              \n",
      "  <div class=\"views-field views-field-field-photo\">        <div class=\"field-content\"><a href=\"/people/15549/maxine-eskenazi\"><img src=\"http://www.lti.cs.cmu.edu/sites/default/files/styles/directory_thumb/public/Eskenazi_Maxine_0.jpg?itok=xolZKuYt\" width=\"100\" height=\"150\" alt=\"Maxine Eskenazi\" title=\"Maxine Eskenazi\" /></a></div>  </div>  \n",
      "  <div class=\"views-field views-field-nothing\">        <span class=\"field-content\"><a href=\"/people/15549/maxine-eskenazi\"><h2>Maxine Eskenazi</h2></a></span>  </div>  \n",
      "  <div class=\"views-field views-field-field-computed-prof-title\">        <div class=\"field-content\">Principal Systems Scientist</div>  </div>  \n",
      "  <div>    <span class=\"label\">Email: </span>    <a href=\"mailto:max@cs.cmu.edu\">max@cs.cmu.edu</a>  </div>  \n",
      "  <div class=\"views-field views-field-field-computed-building\">    <span class=\"views-label views-label-field-computed-building label\">Office: </span>    6413 Gates &amp; Hillman Centers  </div>  \n",
      "  <div class=\"views-field views-field-field-computed-phone\">    <span class=\"views-label views-label-field-computed-phone label\">Phone: </span>    412-268-3858  </div>  \n",
      "  <div class=\"views-field views-field-field-research-areas\">    <span class=\"views-label views-label-field-research-areas label\">Research Areas: </span>    Language Technologies for Education, Multimodal Computing and Interaction, Natural Language Processing and Computational Linguistics, Speech Processing, Spoken Interfaces and Dialogue Processing, Crowdsourcing  </div>          </td>\n",
      "              </tr>\n",
      "          <tr class=\"row-6\">\n",
      "                  <td class=\"col-1 col-first\">\n",
      "              \n",
      "  <div class=\"views-field views-field-field-photo\">        <div class=\"field-content\"><a href=\"/people/15440/scott-fahlman\"><img src=\"http://www.lti.cs.cmu.edu/sites/default/files/styles/directory_thumb/public/Fahlman_Scott.jpg?itok=Z9ernTfA\" width=\"100\" height=\"150\" alt=\"Scott Fahlman\" title=\"Scott Fahlman\" /></a></div>  </div>  \n",
      "  <div class=\"views-field views-field-nothing\">        <span class=\"field-content\"><a href=\"/people/15440/scott-fahlman\"><h2>Scott Fahlman</h2></a></span>  </div>  \n",
      "  <div class=\"views-field views-field-field-computed-prof-title\">        <div class=\"field-content\">Research Professor</div>  </div>  \n",
      "  <div>    <span class=\"label\">Email: </span>    <a href=\"mailto:sef@cs.cmu.edu\">sef@cs.cmu.edu</a>  </div>  \n",
      "  <div class=\"views-field views-field-field-computed-building\">    <span class=\"views-label views-label-field-computed-building label\">Office: </span>    6417 Gates &amp; Hillman Centers  </div>  \n",
      "  <div class=\"views-field views-field-field-computed-phone\">    <span class=\"views-label views-label-field-computed-phone label\">Phone: </span>    412-268-2575  </div>  \n",
      "  <div class=\"views-field views-field-field-research-areas\">    <span class=\"views-label views-label-field-research-areas label\">Research Areas: </span>    AI, Knowledge Representation and Reasoning, Natural Language Understanding  </div>          </td>\n",
      "                  <td class=\"col-2 col-last\">\n",
      "              \n",
      "  <div class=\"views-field views-field-field-photo\">        <div class=\"field-content\"><a href=\"/people/15521/eugene-fink\"><img src=\"http://www.lti.cs.cmu.edu/sites/default/files/styles/directory_thumb/public/Fink_Eugene.jpg?itok=VGQzIzy7\" width=\"100\" height=\"150\" alt=\"Eugene Fink\" title=\"Eugene Fink\" /></a></div>  </div>  \n",
      "  <div class=\"views-field views-field-nothing\">        <span class=\"field-content\"><a href=\"/people/15521/eugene-fink\"><h2>Eugene Fink</h2></a></span>  </div>  \n",
      "  <div class=\"views-field views-field-field-computed-prof-title\">        <div class=\"field-content\">Senior Systems Scientist</div>  </div>  \n",
      "  <div>    <span class=\"label\">Email: </span>    <a href=\"mailto:eugenefink@cmu.edu\">eugenefink@cmu.edu</a>  </div>  \n",
      "  <div class=\"views-field views-field-field-computed-building\">    <span class=\"views-label views-label-field-computed-building label\">Office: </span>    6415 Gates &amp; Hillman Centers  </div>  \n",
      "  <div class=\"views-field views-field-field-computed-phone\">    <span class=\"views-label views-label-field-computed-phone label\">Phone: </span>    412-268-6593  </div>          </td>\n",
      "              </tr>\n",
      "          <tr class=\"row-7\">\n",
      "                  <td class=\"col-1 col-first\">\n",
      "              \n",
      "  <div class=\"views-field views-field-field-photo\">        <div class=\"field-content\"><a href=\"/people/15475/robert-frederking\"><img src=\"http://www.lti.cs.cmu.edu/sites/default/files/styles/directory_thumb/public/Frederking_Robert.jpg?itok=RFf7Xjx3\" width=\"100\" height=\"150\" alt=\"Robert Frederking\" title=\"Robert Frederking\" /></a></div>  </div>  \n",
      "  <div class=\"views-field views-field-nothing\">        <span class=\"field-content\"><a href=\"/people/15475/robert-frederking\"><h2>Robert Frederking</h2></a></span>  </div>  \n",
      "  <div class=\"views-field views-field-field-computed-prof-title\">        <div class=\"field-content\">Principal Systems Scientist/Associate Dean of Doctoral Programs</div>  </div>  \n",
      "  <div>    <span class=\"label\">Email: </span>    <a href=\"mailto:ref@cs.cmu.edu\">ref@cs.cmu.edu</a>  </div>  \n",
      "  <div class=\"views-field views-field-field-computed-building\">    <span class=\"views-label views-label-field-computed-building label\">Office: </span>    6515 Gates &amp; Hillman Centers  </div>  \n",
      "  <div class=\"views-field views-field-field-computed-phone\">    <span class=\"views-label views-label-field-computed-phone label\">Phone: </span>    412-268-6656  </div>          </td>\n",
      "                  <td class=\"col-2 col-last\">\n",
      "              \n",
      "  <div class=\"views-field views-field-field-photo\">        <div class=\"field-content\"><a href=\"/people/16131/anatole-gershman\"><img src=\"http://www.lti.cs.cmu.edu/sites/default/files/styles/directory_thumb/public/Gershman_Anatole.jpg?itok=iDpLyau6\" width=\"100\" height=\"150\" alt=\"Anatole Gershman\" title=\"Anatole Gershman\" /></a></div>  </div>  \n",
      "  <div class=\"views-field views-field-nothing\">        <span class=\"field-content\"><a href=\"/people/16131/anatole-gershman\"><h2>Anatole Gershman</h2></a></span>  </div>  \n",
      "  <div class=\"views-field views-field-field-computed-prof-title\">        <div class=\"field-content\">Distinguished Service Professor</div>  </div>  \n",
      "  <div>    <span class=\"label\">Email: </span>    <a href=\"mailto:anatole.gershman@cs.cmu.edu\">anatole.gershman@cs.cmu.edu</a>  </div>  \n",
      "  <div class=\"views-field views-field-field-computed-building\">    <span class=\"views-label views-label-field-computed-building label\">Office: </span>    6415 Gates &amp; Hillman Centers  </div>  \n",
      "  <div class=\"views-field views-field-field-computed-phone\">    <span class=\"views-label views-label-field-computed-phone label\">Phone: </span>    412-268-8259  </div>  \n",
      "  <div class=\"views-field views-field-field-research-areas\">    <span class=\"views-label views-label-field-research-areas label\">Research Areas: </span>    Information Extraction, Summarization and Question Answering  </div>          </td>\n",
      "              </tr>\n",
      "          <tr class=\"row-8\">\n",
      "                  <td class=\"col-1 col-first\">\n",
      "              \n",
      "  <div class=\"views-field views-field-field-photo\">        <div class=\"field-content\"><a href=\"/people/15421/alexander-hauptmann\"><img src=\"http://www.lti.cs.cmu.edu/sites/default/files/styles/directory_thumb/public/Hauptmann_Alexander.jpg?itok=M27jHSxl\" width=\"100\" height=\"150\" alt=\"Alexander Hauptmann\" title=\"Alexander Hauptmann\" /></a></div>  </div>  \n",
      "  <div class=\"views-field views-field-nothing\">        <span class=\"field-content\"><a href=\"/people/15421/alexander-hauptmann\"><h2>Alexander Hauptmann</h2></a></span>  </div>  \n",
      "  <div class=\"views-field views-field-field-computed-prof-title\">        <div class=\"field-content\">Principal Systems Scientist</div>  </div>  \n",
      "  <div>    <span class=\"label\">Email: </span>    <a href=\"mailto:alex@cs.cmu.edu\">alex@cs.cmu.edu</a>  </div>  \n",
      "  <div class=\"views-field views-field-field-computed-building\">    <span class=\"views-label views-label-field-computed-building label\">Office: </span>    5519 Gates &amp; Hillman Centers  </div>  \n",
      "  <div class=\"views-field views-field-field-computed-phone\">    <span class=\"views-label views-label-field-computed-phone label\">Phone: </span>    412-268-1448  </div>  \n",
      "  <div class=\"views-field views-field-field-research-areas\">    <span class=\"views-label views-label-field-research-areas label\">Research Areas: </span>    Information Extraction, Summarization and Question Answering, Information Retrieval, Text Mining and Analytics, Machine Learning, Multimodal Computing and Interaction  </div>          </td>\n",
      "                  <td class=\"col-2 col-last\">\n",
      "              \n",
      "  <div class=\"views-field views-field-field-photo\">        <div class=\"field-content\"><a href=\"/people/17185/eduard-hovy\"><img src=\"http://www.lti.cs.cmu.edu/sites/default/files/styles/directory_thumb/public/Hovy_Eduard.jpg?itok=5gyw2Xha\" width=\"100\" height=\"150\" alt=\"Eduard Hovy\" title=\"Eduard Hovy\" /></a></div>  </div>  \n",
      "  <div class=\"views-field views-field-nothing\">        <span class=\"field-content\"><a href=\"/people/17185/eduard-hovy\"><h2>Eduard Hovy</h2></a></span>  </div>  \n",
      "  <div class=\"views-field views-field-field-computed-prof-title\">        <div class=\"field-content\">Research Professor</div>  </div>  \n",
      "  <div>    <span class=\"label\">Email: </span>    <a href=\"mailto:hovy@cmu.edu\">hovy@cmu.edu</a>  </div>  \n",
      "  <div class=\"views-field views-field-field-computed-building\">    <span class=\"views-label views-label-field-computed-building label\">Office: </span>    5723 Gates &amp; Hillman Centers  </div>  \n",
      "  <div class=\"views-field views-field-field-computed-phone\">    <span class=\"views-label views-label-field-computed-phone label\">Phone: </span>    412-268-6592  </div>  \n",
      "  <div class=\"views-field views-field-field-research-areas\">    <span class=\"views-label views-label-field-research-areas label\">Research Areas: </span>    Information Extraction, Summarization and Question Answering, Information Retrieval, Text Mining and Analytics, Natural Language Processing and Computational Linguistics, Semantics for NLP, Social Media, Machine Reading  </div>          </td>\n",
      "              </tr>\n",
      "          <tr class=\"row-9\">\n",
      "                  <td class=\"col-1 col-first\">\n",
      "              \n",
      "  <div class=\"views-field views-field-field-photo\">        <div class=\"field-content\"><a href=\"/people/15368/lorraine-levin\"><img src=\"http://www.lti.cs.cmu.edu/sites/default/files/styles/directory_thumb/public/Levin_New.jpg?itok=zxgpRM5r\" width=\"100\" height=\"150\" alt=\"Lori Levin\" title=\"Lori Levin\" /></a></div>  </div>  \n",
      "  <div class=\"views-field views-field-nothing\">        <span class=\"field-content\"><a href=\"/people/15368/lorraine-levin\"><h2>Lorraine Levin</h2></a></span>  </div>  \n",
      "  <div class=\"views-field views-field-field-computed-prof-title\">        <div class=\"field-content\">Research Professor</div>  </div>  \n",
      "  <div>    <span class=\"label\">Email: </span>    <a href=\"mailto:lsl@cs.cmu.edu\">lsl@cs.cmu.edu</a>  </div>  \n",
      "  <div class=\"views-field views-field-field-computed-building\">    <span class=\"views-label views-label-field-computed-building label\">Office: </span>    5717 Gates &amp; Hillman Centers  </div>  \n",
      "  <div class=\"views-field views-field-field-computed-phone\">    <span class=\"views-label views-label-field-computed-phone label\">Phone: </span>    412-268-6193  </div>  \n",
      "  <div class=\"views-field views-field-field-research-areas\">    <span class=\"views-label views-label-field-research-areas label\">Research Areas: </span>    Machine Translation, Natural Language Processing and Computational Linguistics, Corpus Annotation and Resources  </div>          </td>\n",
      "                  <td class=\"col-2 col-last\">\n",
      "              \n",
      "  <div class=\"views-field views-field-field-photo\">        <div class=\"field-content\"><a href=\"/people/16355/florian-metze\"><img src=\"http://www.lti.cs.cmu.edu/sites/default/files/styles/directory_thumb/public/Metze_Florian.JPG?itok=WFqcbKXx\" width=\"100\" height=\"150\" alt=\"Florian Metze\" title=\"Florian Metze\" /></a></div>  </div>  \n",
      "  <div class=\"views-field views-field-nothing\">        <span class=\"field-content\"><a href=\"/people/16355/florian-metze\"><h2>Florian Metze</h2></a></span>  </div>  \n",
      "  <div class=\"views-field views-field-field-computed-prof-title\">        <div class=\"field-content\">Associate Research Professor</div>  </div>  \n",
      "  <div>    <span class=\"label\">Email: </span>    <a href=\"mailto:fmetze@cs.cmu.edu\">fmetze@cs.cmu.edu</a>  </div>  \n",
      "  <div class=\"views-field views-field-field-computed-building\">    <span class=\"views-label views-label-field-computed-building label\">Office: </span>    202 407 South Craig Street  </div>  \n",
      "  <div class=\"views-field views-field-field-computed-phone\">    <span class=\"views-label views-label-field-computed-phone label\">Phone: </span>    412-268-8984  </div>  \n",
      "  <div class=\"views-field views-field-field-research-areas\">    <span class=\"views-label views-label-field-research-areas label\">Research Areas: </span>    Machine Learning, Speech Processing  </div>          </td>\n",
      "              </tr>\n",
      "          <tr class=\"row-10 row-last\">\n",
      "                  <td class=\"col-1 col-first\">\n",
      "              \n",
      "  <div class=\"views-field views-field-field-photo\">        <div class=\"field-content\"><a href=\"/people/15392/teruko-mitamura\"><img src=\"http://www.lti.cs.cmu.edu/sites/default/files/styles/directory_thumb/public/Mitamura_Teruko.jpg?itok=FsiSy7l0\" width=\"100\" height=\"150\" alt=\"Teruko Mitamura\" title=\"Teruko Mitamura\" /></a></div>  </div>  \n",
      "  <div class=\"views-field views-field-nothing\">        <span class=\"field-content\"><a href=\"/people/15392/teruko-mitamura\"><h2>Teruko Mitamura</h2></a></span>  </div>  \n",
      "  <div class=\"views-field views-field-field-computed-prof-title\">        <div class=\"field-content\">Research Professor</div>  </div>  \n",
      "  <div>    <span class=\"label\">Email: </span>    <a href=\"mailto:teruko@cs.cmu.edu\">teruko@cs.cmu.edu</a>  </div>  \n",
      "  <div class=\"views-field views-field-field-computed-building\">    <span class=\"views-label views-label-field-computed-building label\">Office: </span>    6711 Gates &amp; Hillman Centers  </div>  \n",
      "  <div class=\"views-field views-field-field-computed-phone\">    <span class=\"views-label views-label-field-computed-phone label\">Phone: </span>    412-268-6596  </div>  \n",
      "  <div class=\"views-field views-field-field-research-areas\">    <span class=\"views-label views-label-field-research-areas label\">Research Areas: </span>    Information Extraction, Summarization and Question Answering, Information Retrieval, Text Mining and Analytics, Language Technologies for Education, Natural Language Processing and Computational Linguistics  </div>          </td>\n",
      "                  <td class=\"col-2 col-last\">\n",
      "              \n",
      "  <div class=\"views-field views-field-field-photo\">        <div class=\"field-content\"><a href=\"/people/18870/louis-philippe-morency\"><img src=\"http://www.lti.cs.cmu.edu/sites/default/files/styles/directory_thumb/public/LPMorency_small_0.jpg?itok=Vbi_uwlg\" width=\"100\" height=\"150\" alt=\"LP Morency\" title=\"LP Morency\" /></a></div>  </div>  \n",
      "  <div class=\"views-field views-field-nothing\">        <span class=\"field-content\"><a href=\"/people/18870/louis-philippe-morency\"><h2>Louis-Philippe Morency</h2></a></span>  </div>  \n",
      "  <div class=\"views-field views-field-field-computed-prof-title\">        <div class=\"field-content\">Assistant Professor</div>  </div>  \n",
      "  <div>    <span class=\"label\">Email: </span>    <a href=\"mailto:morency@cs.cmu.edu\">morency@cs.cmu.edu</a>  </div>  \n",
      "  <div class=\"views-field views-field-field-computed-building\">    <span class=\"views-label views-label-field-computed-building label\">Office: </span>    5411 Gates &amp; Hillman Centers  </div>  \n",
      "  <div class=\"views-field views-field-field-computed-phone\">    <span class=\"views-label views-label-field-computed-phone label\">Phone: </span>    412-268-5508  </div>  \n",
      "  <div class=\"views-field views-field-field-research-areas\">    <span class=\"views-label views-label-field-research-areas label\">Research Areas: </span>    Machine Learning, Multimodal Computing and Interaction, Spoken Interfaces and Dialogue Processing  </div>          </td>\n",
      "              </tr>\n",
      "      </tbody>\n",
      "</table>\n",
      "    </div>\n",
      "  \n",
      "      <h2 class=\"element-invisible\">Pages</h2><div class=\"item-list\"><ul class=\"pager\"><li class=\"pager-current first\">1</li>\n",
      "<li class=\"pager-item\"><a title=\"Go to page 2\" href=\"/directory/all/154/1?page=1\">2</a></li>\n",
      "<li class=\"pager-next\"><a title=\"Go to next page\" href=\"/directory/all/154/1?page=1\">next ›</a></li>\n",
      "<li class=\"pager-last last\"><a title=\"Go to last page\" href=\"/directory/all/154/1?page=1\">last »</a></li>\n",
      "</ul></div>  \n",
      "  \n",
      "  \n",
      "  \n",
      "  \n",
      "</div>          </div>\n",
      "\n",
      "    \n",
      "\n",
      "    \n",
      "    \n",
      "  </div>\n",
      "  <footer id=\"footer\" class=\"region region-footer\">\n",
      "    <div id=\"block-block-1\" class=\"block block-block first last odd\">\n",
      "\n",
      "      \n",
      "  <div class=\"footer_left\"><h2>Contact Us</h2>Language Technologies Institute<br /> 5000 Forbes Avenue<br /> Pittsburgh, PA<br /> 15213-3891<br /><br /> 412-268-6591<br /> <a href=\"mailto:ltiwebmaster@cs.cmu.edu\">ltiwebmaster@cs.cmu.edu</a><p></p></div><div class=\"footer_right\"><h2>Connect</h2><a href=\"http://www.facebook.com/pages/Pittsburgh-PA/Carnegie-Mellon-School-of-Computer-Science/170657132947108\" target=\"new\" border=\"0\" class=\"no_icon\"><span class=\"fa fa-facebook fa-lg\" border=\"0\" alt=\"Facebook\"></span></a> &nbsp;<a href=\"http://twitter.com/LTICMU\" target=\"new\" border=\"0\" class=\"no_icon\"><span class=\"fa fa-twitter fa-lg\" border=\"0\" alt=\"Twitter\"></span></a> &nbsp;<a href=\"feed/rss.xml\" target=\"new\" border=\"0\"><span class=\"fa fa-rss fa-lg\" border=\"0\" alt=\"RSS News Feed\"></span></a>   <div class=\"footer_logo\"><a href=\"http://www.cs.cmu.edu\" target=\"new\" border=\"0\" class=\"no_icon\"><img src=\"/sites/all/themes/lti2015/images/scs-logo.png\" alt=\"Carnegie Mellon University School of Computer Science\" class=\"no_icon\" /></a><p></p><p></p><a href=\"/user/login\">Login</a> | <a href=\"/user/logout\">Logout</a><p></p></div></div>\n",
      "</div>\n",
      "  </footer>\n",
      "\n",
      "\n",
      "\n",
      "</div>\n",
      "  \n",
      "\n",
      "        \n",
      "</body>\n",
      "</html>\n",
      "\n"
     ]
    }
   ],
   "source": [
    "page = urllib2.urlopen(url).read()\n",
    "print page"
   ]
  },
  {
   "cell_type": "markdown",
   "metadata": {},
   "source": [
    "### 1.2 Extract Raw Text"
   ]
  },
  {
   "cell_type": "code",
   "execution_count": 9,
   "metadata": {
    "collapsed": false
   },
   "outputs": [],
   "source": [
    "soup = BeautifulSoup(page, \"lxml\")"
   ]
  },
  {
   "cell_type": "code",
   "execution_count": 17,
   "metadata": {
    "collapsed": false
   },
   "outputs": [],
   "source": [
    "td_1_list = soup.findAll('td', attrs={ \"class\" : \"col-1 col-first\"})\n",
    "td_2_list = soup.findAll('td', attrs={ \"class\" : \"col-2 col-last\"})"
   ]
  },
  {
   "cell_type": "code",
   "execution_count": 18,
   "metadata": {
    "collapsed": false
   },
   "outputs": [],
   "source": [
    "td_list = td_1_list\n",
    "td_list.extend(td_2_list)"
   ]
  },
  {
   "cell_type": "code",
   "execution_count": 27,
   "metadata": {
    "collapsed": false
   },
   "outputs": [],
   "source": [
    "faculty_text_list = []\n",
    "for item in td_list:\n",
    "    text = item.get_text()\n",
    "    faculty_text_list.append(text)"
   ]
  },
  {
   "cell_type": "code",
   "execution_count": 32,
   "metadata": {
    "collapsed": false
   },
   "outputs": [
    {
     "name": "stdout",
     "output_type": "stream",
     "text": [
      "\n",
      "  \n",
      " James Baker \n",
      " Distinguished Career Professor \n",
      " Email:  jkbaker@andrew.cmu.edu \n",
      " Office:     6703 Gates & Hillman Centers  \n",
      " Phone:     412-268-9859    \n",
      "  \n",
      " Jeffrey Bigham \n",
      " Associate Professor \n",
      " Email:  jbigham@andrew.cmu.edu \n",
      " Office:     3525 Newell-Simon Hall  \n",
      " Phone:     412-945-0708    \n",
      "  \n",
      " Ralf Brown \n",
      " Senior Systems Scientist/Chair of Admissions \n",
      " Email:  ralf@andrew.cmu.edu \n",
      " Office:     5711 Gates & Hillman Centers  \n",
      " Phone:     412-268-8298  \n",
      " Research Areas:     Information Extraction, Summarization and Question Answering, Information Retrieval, Text Mining and Analytics, Machine Translation, Natural Language Processing and Computational Linguistics    \n",
      "  \n",
      " Jaime Carbonell \n",
      " LTI Director/Professor of CS and LTI \n",
      " Email:  jgc@cs.cmu.edu \n",
      " Office:     6721 Gates & Hillman Centers  \n",
      " Phone:     412-268-7279    \n",
      "  \n",
      " William Cohen \n",
      " Professor \n",
      " Email:  wcohen@cs.cmu.edu \n",
      " Office:     8217 Gates & Hillman Centers  \n",
      " Phone:     412-268-7664    \n",
      "  \n",
      " Scott Fahlman \n",
      " Research Professor \n",
      " Email:  sef@cs.cmu.edu \n",
      " Office:     6417 Gates & Hillman Centers  \n",
      " Phone:     412-268-2575  \n",
      " Research Areas:     AI, Knowledge Representation and Reasoning, Natural Language Understanding    \n",
      "  \n",
      " Robert Frederking \n",
      " Principal Systems Scientist/Associate Dean of Doctoral Programs \n",
      " Email:  ref@cs.cmu.edu \n",
      " Office:     6515 Gates & Hillman Centers  \n",
      " Phone:     412-268-6656    \n",
      "  \n",
      " Alexander Hauptmann \n",
      " Principal Systems Scientist \n",
      " Email:  alex@cs.cmu.edu \n",
      " Office:     5519 Gates & Hillman Centers  \n",
      " Phone:     412-268-1448  \n",
      " Research Areas:     Information Extraction, Summarization and Question Answering, Information Retrieval, Text Mining and Analytics, Machine Learning, Multimodal Computing and Interaction    \n",
      "  \n",
      " Lorraine Levin \n",
      " Research Professor \n",
      " Email:  lsl@cs.cmu.edu \n",
      " Office:     5717 Gates & Hillman Centers  \n",
      " Phone:     412-268-6193  \n",
      " Research Areas:     Machine Translation, Natural Language Processing and Computational Linguistics, Corpus Annotation and Resources    \n",
      "  \n",
      " Teruko Mitamura \n",
      " Research Professor \n",
      " Email:  teruko@cs.cmu.edu \n",
      " Office:     6711 Gates & Hillman Centers  \n",
      " Phone:     412-268-6596  \n",
      " Research Areas:     Information Extraction, Summarization and Question Answering, Information Retrieval, Text Mining and Analytics, Language Technologies for Education, Natural Language Processing and Computational Linguistics    \n",
      "  \n",
      " Taylor Berg-Kirkpatrick \n",
      " Assistant Professor \n",
      " Email:  tberg@cs.cmu.edu \n",
      " Office:     6403 Gates & Hillman Centers    \n",
      "  \n",
      " Alan Black \n",
      " Professor \n",
      " Email:  awb@cs.cmu.edu \n",
      " Office:     5701 Gates & Hillman Centers  \n",
      " Phone:     412-268-6299  \n",
      " Research Areas:     Machine Translation, Speech Processing, Spoken Interfaces and Dialogue Processing    \n",
      "  \n",
      " Jamie Callan \n",
      " Professor \n",
      " Email:  callan@cs.cmu.edu \n",
      " Office:     5419 Gates & Hillman Centers  \n",
      " Phone:     412-268-4525  \n",
      " Research Areas:     Information Retrieval, Text Mining and Analytics    \n",
      "  \n",
      " Justine Cassell \n",
      " Associate Dean for Technology Strategy and Impact in the School of Computer Science at Carnegie Mellon \n",
      " Email:  jcassell@andrew.cmu.edu \n",
      " Office:     4109 Gates & Hillman Centers  \n",
      " Phone:     412-204-6268    \n",
      "  \n",
      " Maxine Eskenazi \n",
      " Principal Systems Scientist \n",
      " Email:  max@cs.cmu.edu \n",
      " Office:     6413 Gates & Hillman Centers  \n",
      " Phone:     412-268-3858  \n",
      " Research Areas:     Language Technologies for Education, Multimodal Computing and Interaction, Natural Language Processing and Computational Linguistics, Speech Processing, Spoken Interfaces and Dialogue Processing, Crowdsourcing    \n",
      "  \n",
      " Eugene Fink \n",
      " Senior Systems Scientist \n",
      " Email:  eugenefink@cmu.edu \n",
      " Office:     6415 Gates & Hillman Centers  \n",
      " Phone:     412-268-6593    \n",
      "  \n",
      " Anatole Gershman \n",
      " Distinguished Service Professor \n",
      " Email:  anatole.gershman@cs.cmu.edu \n",
      " Office:     6415 Gates & Hillman Centers  \n",
      " Phone:     412-268-8259  \n",
      " Research Areas:     Information Extraction, Summarization and Question Answering    \n",
      "  \n",
      " Eduard Hovy \n",
      " Research Professor \n",
      " Email:  hovy@cmu.edu \n",
      " Office:     5723 Gates & Hillman Centers  \n",
      " Phone:     412-268-6592  \n",
      " Research Areas:     Information Extraction, Summarization and Question Answering, Information Retrieval, Text Mining and Analytics, Natural Language Processing and Computational Linguistics, Semantics for NLP, Social Media, Machine Reading    \n",
      "  \n",
      " Florian Metze \n",
      " Associate Research Professor \n",
      " Email:  fmetze@cs.cmu.edu \n",
      " Office:     202 407 South Craig Street  \n",
      " Phone:     412-268-8984  \n",
      " Research Areas:     Machine Learning, Speech Processing    \n",
      "  \n",
      " Louis-Philippe Morency \n",
      " Assistant Professor \n",
      " Email:  morency@cs.cmu.edu \n",
      " Office:     5411 Gates & Hillman Centers  \n",
      " Phone:     412-268-5508  \n",
      " Research Areas:     Machine Learning, Multimodal Computing and Interaction, Spoken Interfaces and Dialogue Processing   \n"
     ]
    }
   ],
   "source": [
    "print \" \".join([text for text in faculty_text_list])"
   ]
  },
  {
   "cell_type": "markdown",
   "metadata": {},
   "source": [
    "### 1.3 Construct Structured Data"
   ]
  },
  {
   "cell_type": "code",
   "execution_count": 66,
   "metadata": {
    "collapsed": true
   },
   "outputs": [],
   "source": [
    "def get_img_url(item):\n",
    "    container = item.find('div', attrs={\"class\" : 'views-field views-field-field-photo'})\n",
    "    field = container.find('div', attrs={ \"class\" : 'field-content'})\n",
    "    return field.find(\"img\")['src']"
   ]
  },
  {
   "cell_type": "code",
   "execution_count": 74,
   "metadata": {
    "collapsed": true
   },
   "outputs": [],
   "source": [
    "def get_prof_name(item):\n",
    "    container = item.find('div', attrs={\"class\" : 'views-field views-field-nothing'})\n",
    "    return container.text.strip()"
   ]
  },
  {
   "cell_type": "code",
   "execution_count": 75,
   "metadata": {
    "collapsed": true
   },
   "outputs": [],
   "source": [
    "def get_prof_title(item):\n",
    "    container = item.find('div', attrs={\"class\" : 'views-field views-field-field-computed-prof-title'})\n",
    "    return container.text.strip()"
   ]
  },
  {
   "cell_type": "code",
   "execution_count": 84,
   "metadata": {
    "collapsed": true
   },
   "outputs": [],
   "source": [
    "def get_prof_email(item):\n",
    "    urls = item.findAll(\"a\")\n",
    "    for url in urls:\n",
    "        if \"cmu.edu\" in url['href']:\n",
    "            return url.text"
   ]
  },
  {
   "cell_type": "code",
   "execution_count": 94,
   "metadata": {
    "collapsed": true
   },
   "outputs": [],
   "source": [
    "def get_prof_research(item):\n",
    "    container = item.find('div', attrs={\"class\" : 'views-field views-field-field-research-areas'})\n",
    "    try:\n",
    "        return container.text[17:].strip()\n",
    "    except:\n",
    "        return \"\""
   ]
  },
  {
   "cell_type": "code",
   "execution_count": 97,
   "metadata": {
    "collapsed": false
   },
   "outputs": [],
   "source": [
    "lti = {}\n",
    "\n",
    "for td in td_list:\n",
    "    info = {}\n",
    "    name = get_prof_name(td)\n",
    "    info['url'] = get_img_url(td)\n",
    "    info['title'] = get_prof_title(td)\n",
    "    info['email'] = get_prof_email(td)\n",
    "    info['research'] = get_prof_research(td)\n",
    "    lti[name] = info"
   ]
  },
  {
   "cell_type": "code",
   "execution_count": 100,
   "metadata": {
    "collapsed": false
   },
   "outputs": [
    {
     "data": {
      "text/plain": [
       "{u'Alan Black': {'email': u'awb@cs.cmu.edu',\n",
       "  'research': u'Machine Translation, Speech Processing, Spoken Interfaces and Dialogue Processing',\n",
       "  'title': u'Professor',\n",
       "  'url': 'http://www.lti.cs.cmu.edu/sites/default/files/styles/directory_thumb/public/Black_Alan_1.jpg?itok=5GcQ4BCa'},\n",
       " u'Alexander Hauptmann': {'email': u'alex@cs.cmu.edu',\n",
       "  'research': u'Information Extraction, Summarization and Question Answering, Information Retrieval, Text Mining and Analytics, Machine Learning, Multimodal Computing and Interaction',\n",
       "  'title': u'Principal Systems Scientist',\n",
       "  'url': 'http://www.lti.cs.cmu.edu/sites/default/files/styles/directory_thumb/public/Hauptmann_Alexander.jpg?itok=M27jHSxl'},\n",
       " u'Anatole Gershman': {'email': u'anatole.gershman@cs.cmu.edu',\n",
       "  'research': u'Information Extraction, Summarization and Question Answering',\n",
       "  'title': u'Distinguished Service Professor',\n",
       "  'url': 'http://www.lti.cs.cmu.edu/sites/default/files/styles/directory_thumb/public/Gershman_Anatole.jpg?itok=iDpLyau6'},\n",
       " u'Eduard Hovy': {'email': u'hovy@cmu.edu',\n",
       "  'research': u'Information Extraction, Summarization and Question Answering, Information Retrieval, Text Mining and Analytics, Natural Language Processing and Computational Linguistics, Semantics for NLP, Social Media, Machine Reading',\n",
       "  'title': u'Research Professor',\n",
       "  'url': 'http://www.lti.cs.cmu.edu/sites/default/files/styles/directory_thumb/public/Hovy_Eduard.jpg?itok=5gyw2Xha'},\n",
       " u'Eugene Fink': {'email': u'eugenefink@cmu.edu',\n",
       "  'research': '',\n",
       "  'title': u'Senior Systems Scientist',\n",
       "  'url': 'http://www.lti.cs.cmu.edu/sites/default/files/styles/directory_thumb/public/Fink_Eugene.jpg?itok=VGQzIzy7'},\n",
       " u'Florian Metze': {'email': u'fmetze@cs.cmu.edu',\n",
       "  'research': u'Machine Learning, Speech Processing',\n",
       "  'title': u'Associate Research Professor',\n",
       "  'url': 'http://www.lti.cs.cmu.edu/sites/default/files/styles/directory_thumb/public/Metze_Florian.JPG?itok=WFqcbKXx'},\n",
       " u'Jaime Carbonell': {'email': u'jgc@cs.cmu.edu',\n",
       "  'research': '',\n",
       "  'title': u'LTI Director/Professor of CS and LTI',\n",
       "  'url': 'http://www.lti.cs.cmu.edu/sites/default/files/styles/directory_thumb/public/Carbonell_Jaime.jpg?itok=Fjw7JdZa'},\n",
       " u'James Baker': {'email': u'jkbaker@andrew.cmu.edu',\n",
       "  'research': '',\n",
       "  'title': u'Distinguished Career Professor',\n",
       "  'url': 'http://www.lti.cs.cmu.edu/sites/default/files/styles/directory_thumb/public/Baker%2CJames.jpg?itok=waZgWLsy'},\n",
       " u'Jamie Callan': {'email': u'callan@cs.cmu.edu',\n",
       "  'research': u'Information Retrieval, Text Mining and Analytics',\n",
       "  'title': u'Professor',\n",
       "  'url': 'http://www.lti.cs.cmu.edu/sites/default/files/styles/directory_thumb/public/Callan_Jamie.jpg?itok=pHYf8tgz'},\n",
       " u'Jeffrey Bigham': {'email': u'jbigham@andrew.cmu.edu',\n",
       "  'research': '',\n",
       "  'title': u'Associate Professor',\n",
       "  'url': 'http://www.lti.cs.cmu.edu/sites/default/files/styles/directory_thumb/public/Bigham_Jeffrey.jpg?itok=xMIaXPNE'},\n",
       " u'Justine Cassell': {'email': u'jcassell@andrew.cmu.edu',\n",
       "  'research': '',\n",
       "  'title': u'Associate Dean for Technology Strategy and Impact in the School of Computer Science at Carnegie Mellon',\n",
       "  'url': 'http://www.lti.cs.cmu.edu/sites/default/files/styles/directory_thumb/public/Cassell_Justine.jpg?itok=fOtRnXyQ'},\n",
       " u'Lorraine Levin': {'email': u'lsl@cs.cmu.edu',\n",
       "  'research': u'Machine Translation, Natural Language Processing and Computational Linguistics, Corpus Annotation and Resources',\n",
       "  'title': u'Research Professor',\n",
       "  'url': 'http://www.lti.cs.cmu.edu/sites/default/files/styles/directory_thumb/public/Levin_New.jpg?itok=zxgpRM5r'},\n",
       " u'Louis-Philippe Morency': {'email': u'morency@cs.cmu.edu',\n",
       "  'research': u'Machine Learning, Multimodal Computing and Interaction, Spoken Interfaces and Dialogue Processing',\n",
       "  'title': u'Assistant Professor',\n",
       "  'url': 'http://www.lti.cs.cmu.edu/sites/default/files/styles/directory_thumb/public/LPMorency_small_0.jpg?itok=Vbi_uwlg'},\n",
       " u'Maxine Eskenazi': {'email': u'max@cs.cmu.edu',\n",
       "  'research': u'Language Technologies for Education, Multimodal Computing and Interaction, Natural Language Processing and Computational Linguistics, Speech Processing, Spoken Interfaces and Dialogue Processing, Crowdsourcing',\n",
       "  'title': u'Principal Systems Scientist',\n",
       "  'url': 'http://www.lti.cs.cmu.edu/sites/default/files/styles/directory_thumb/public/Eskenazi_Maxine_0.jpg?itok=xolZKuYt'},\n",
       " u'Ralf Brown': {'email': u'ralf@andrew.cmu.edu',\n",
       "  'research': u'Information Extraction, Summarization and Question Answering, Information Retrieval, Text Mining and Analytics, Machine Translation, Natural Language Processing and Computational Linguistics',\n",
       "  'title': u'Senior Systems Scientist/Chair of Admissions',\n",
       "  'url': 'http://www.lti.cs.cmu.edu/sites/default/files/styles/directory_thumb/public/Brown_Ralf.jpg?itok=EMhjDvI-'},\n",
       " u'Robert Frederking': {'email': u'ref@cs.cmu.edu',\n",
       "  'research': '',\n",
       "  'title': u'Principal Systems Scientist/Associate Dean of Doctoral Programs',\n",
       "  'url': 'http://www.lti.cs.cmu.edu/sites/default/files/styles/directory_thumb/public/Frederking_Robert.jpg?itok=RFf7Xjx3'},\n",
       " u'Scott Fahlman': {'email': u'sef@cs.cmu.edu',\n",
       "  'research': u'AI, Knowledge Representation and Reasoning, Natural Language Understanding',\n",
       "  'title': u'Research Professor',\n",
       "  'url': 'http://www.lti.cs.cmu.edu/sites/default/files/styles/directory_thumb/public/Fahlman_Scott.jpg?itok=Z9ernTfA'},\n",
       " u'Taylor Berg-Kirkpatrick': {'email': u'tberg@cs.cmu.edu',\n",
       "  'research': '',\n",
       "  'title': u'Assistant Professor',\n",
       "  'url': 'http://www.lti.cs.cmu.edu/sites/default/files/styles/directory_thumb/public/DSCF1107a.jpg?itok=W2wdE4gq'},\n",
       " u'Teruko Mitamura': {'email': u'teruko@cs.cmu.edu',\n",
       "  'research': u'Information Extraction, Summarization and Question Answering, Information Retrieval, Text Mining and Analytics, Language Technologies for Education, Natural Language Processing and Computational Linguistics',\n",
       "  'title': u'Research Professor',\n",
       "  'url': 'http://www.lti.cs.cmu.edu/sites/default/files/styles/directory_thumb/public/Mitamura_Teruko.jpg?itok=FsiSy7l0'},\n",
       " u'William Cohen': {'email': u'wcohen@cs.cmu.edu',\n",
       "  'research': '',\n",
       "  'title': u'Professor',\n",
       "  'url': 'http://www.lti.cs.cmu.edu/sites/default/files/styles/directory_thumb/public/Cohen_William.jpg?itok=VGmEhh49'}}"
      ]
     },
     "execution_count": 100,
     "metadata": {},
     "output_type": "execute_result"
    }
   ],
   "source": [
    "lti"
   ]
  },
  {
   "cell_type": "markdown",
   "metadata": {},
   "source": [
    "## 2. CMU news"
   ]
  },
  {
   "cell_type": "code",
   "execution_count": null,
   "metadata": {
    "collapsed": true
   },
   "outputs": [],
   "source": [
    "url = 'http://www.cmu.edu/news/stories/archives/2016/september/feeling-better-on-facebook.html'"
   ]
  },
  {
   "cell_type": "markdown",
   "metadata": {},
   "source": [
    "### 2.1 Raw HTML"
   ]
  },
  {
   "cell_type": "code",
   "execution_count": 115,
   "metadata": {
    "collapsed": false,
    "scrolled": true
   },
   "outputs": [
    {
     "name": "stdout",
     "output_type": "stream",
     "text": [
      "<!DOCTYPE html PUBLIC \"-//W3C//DTD XHTML 1.0 Transitional//EN\" \"http://www.w3.org/TR/xhtml1/DTD/xhtml1-transitional.dtd\">\n",
      "<html xmlns=\"http://www.w3.org/1999/xhtml\">\n",
      "<head>\n",
      "  <meta content=\"text/html; charset=UTF-8\" http-equiv=\"Content-Type\" />\t      <meta content=\"Carnegie Mellon University\" name=\"author\" />      <meta content=\"index,follow\" name=\"robots\" />\n",
      "\n",
      "<script type=\"text/javascript\">window.onload=function(){document.getElementsByTagName(\"body\")[0].setAttribute('id','article');};</script>\n",
      "<link href=\"https://www.cmu.edu/common/standard-v4/css/reset.css\" media=\"all\" rel=\"stylesheet\" type=\"text/css\" /><link href=\"https://www.cmu.edu/common/standard-v4/css/screen.css\" media=\"screen\" rel=\"stylesheet\" type=\"text/css\" /><!--[if gte IE 5.5000]><![if lt IE 7]>\n",
      "\t      <link rel=\"stylesheet\" href=\"https://www.cmu.edu/common/standard-v4/css/ie.css\" type=\"text/css\"  media=\"screen\" />\n",
      "      <![endif]><![endif]--><!--[if gte IE 7]><![if lt IE 8]>\n",
      "\t      <link rel=\"stylesheet\" href=\"https://www.cmu.edu/common/standard-v4/css/ie7.css\" type=\"text/css\"  media=\"screen\" />\n",
      "      <![endif]><![endif]--><link href=\"https://www.cmu.edu/common/standard-v4/css/white-content.css\" media=\"screen\" rel=\"stylesheet\" type=\"text/css\" /><link href=\"https://www.cmu.edu/common/standard-v4/css/print.css\" media=\"print\" rel=\"stylesheet\" type=\"text/css\" />\n",
      "\n",
      "<script language=\"JavaScript\" src=\"https://www.cmu.edu/common/standard-v4/js/jquery-min.js\" type=\"text/javascript\" ></script><script language=\"JavaScript\" src=\"https://www.cmu.edu/common/standard-v4/js/jquery.tablesorter.min.js\" type=\"text/javascript\" ></script><script language=\"JavaScript\" src=\"https://www.cmu.edu/common/standard-v4/js/scripts.js\" type=\"text/javascript\" ></script><script language=\"JavaScript\" src=\"https://www.cmu.edu/__utm.js\" type=\"text/javascript\" ></script>\n",
      "<meta content=\"IE=edge,chrome=1\" http-equiv=\"X-UA-Compatible\" />\n",
      "<meta content=\"width=device-width, initial-scale=1.0, maximum-scale=1.0, user-scalable=no\" name=\"viewport\" />\n",
      "\n",
      "<link href=\"http://fonts.googleapis.com/css?family=Open+Sans:400italic,700italic,800italic,700,800,400\" rel=\"stylesheet\" type=\"text/css\" />\n",
      "\n",
      "<link href=\"//www.cmu.edu/news/css/enhance.css?v=20160826new\" rel=\"stylesheet\" type=\"text/css\" />\n",
      "<script src=\"//www.cmu.edu/news/js/enhance.js?v=20150609\" type=\"text/javascript\" ></script>\n",
      "\n",
      "<link href=\"http://www.cmu.edu/news/feeds/news.rss\" rel=\"alternate\" title=\"CMU News\" type=\"application/rss+xml\" />\n",
      "\n",
      "<script type=\"text/javascript\">(function(i,s,o,g,r,a,m){i['GoogleAnalyticsObject']=r;i[r]=i[r]||function(){(i[r].q=i[r].q||[]).push(arguments)},i[r].l=1*new Date();a=s.createElement(o),m=s.getElementsByTagName(o)[0];a.async=1;a.src=g;m.parentNode.insertBefore(a,m)})(window,document,'script','//www.google-analytics.com/analytics.js','ga');ga('create', 'UA-9172041-1', 'cmu.edu');ga('send', 'pageview');</script>\n",
      "\n",
      "<meta content=\"@CarnegieMellon\" name=\"twitter:site\" />\n",
      "<meta content=\"@CarnegieMellon\" name=\"twitter:creator\" />\n",
      "\n",
      "<link href=\"http://www.cmu.edu/favicon-152.png\" rel=\"apple-touch-icon-precomposed\" />\n",
      "<meta content=\"#9f0000\" name=\"msapplication-TileColor\" />\n",
      "<meta content=\"http://www.cmu.edu/favicon-144.png\" name=\"msapplication-TileImage\" />\n",
      "\n",
      "<!-- Makes IE8 not completely ugly -->\n",
      "<!--[if lte IE 8]><style type=\"text/css\">#wordmark h2 a{background-image:url(http://www.cmu.edu/news/images/cmu-wordmark-h-420x38.png)}#search{display:none}</style><![endif]-->\n",
      "<title>Friends Help Friends on Facebook Feel Better-CMU News - Carnegie Mellon University</title>\n",
      "</head>\n",
      "<body>\n",
      "<h1 id=\"titleHead\">\n",
      "  Friends Help Friends on Facebook Feel Better-CMU News - Carnegie Mellon University\n",
      "</h1>\n",
      "<div id=\"wrapper\">\n",
      "  <div id=\"pageHeader\"><div id=\"wordmark\"><h2><a href=\"http://www.cmu.edu/\" title=\"Carnegie Mellon University\"><span>Carnegie Mellon University</span></a></h2></div><div id=\"search\"><form action=\"https://web-search.andrew.cmu.edu/search\"><input name=\"entqr\" type=\"hidden\" value=\"3\" /><input name=\"entsp\" type=\"hidden\" value=\"a\" /><input name=\"sort\" type=\"hidden\" value=\"date:D:L:d1\" /><input name=\"output\" type=\"hidden\" value=\"xml_no_dtd\" /><input name=\"client\" type=\"hidden\" value=\"default_frontend\" /><input name=\"ud\" type=\"hidden\" value=\"1\" /><input name=\"oe\" type=\"hidden\" value=\"UTF-8\" /><input name=\"ie\" type=\"hidden\" value=\"UTF-8\" /><input name=\"proxystylesheet\" type=\"hidden\" value=\"default_frontend\" /><input checked=\"checked\" id=\"searchSite\" name=\"site\" type=\"checkbox\" value=\"external-news\" /><label for=\"searchSite\" id=\"searchSiteLabel\">Search Only\n",
      "            CMU News</label><input id=\"searchQuery\" maxlength=\"100\" name=\"q\" onfocus=\"clear_search(this)\" title=\"Enter keywords to search Carnegie Mellon University\" type=\"text\" value=\" SEARCH\" />\n",
      "<button id=\"searchSubmit\" title=\"Submit Carnegie Mellon University keyword search\" type=\"submit\">Submit Carnegie Mellon University Search</button></form></div></div>\n",
      "  \n",
      "  <div id=\"main\">\n",
      "    <div id=\"navWrapper\"> <a class=\"noDisplay\" href=\"#access\">Skip navigation and jump directly to page content</a>\n",
      "      <div id=\"logo\"><a href=\"../../../../index.html\"><img alt=\"CMU News Home Page\" border=\"0\" src=\"../../../../images/unitmark-min.png\" title=\"CMU News Home Page\" /></a><div class=\"hr\"><hr /></div></div>\n",
      "      <div id=\"nav\"><ul><li class=\"ancestor\"><a href=\"../../../index.html\">Stories</a><ul><li class=\"ancestor\"><a href=\"../../index.html\">All News</a><ul><li class=\"ancestor\"><a href=\"../index.html\">2016</a><ul><li class=\"ancestor\"><a href=\"index.html\">September</a><ul><li class=\"standard\"><a href=\"detecting-online-fraudsters.html\">CMU Algorithm Detects Online Fraudsters</a></li><li class=\"active\"><a href=\"feeling-better-on-facebook.html\">Friends Help Friends on Facebook Feel Better</a></li><li class=\"standard\"><a href=\"shakespeare-folio.html\">Wherefore Art Thou, Folio?</a></li><li class=\"standard\"><a href=\"a-best-startup.html\">LumiShield Named One of Nation&#8217;s Best University Startups</a></li><li class=\"standard\"><a href=\"star-trek-50.html\">At 50, \"Star Trek\" Inspires CMU Teachers, Writers and Actors</a></li></ul></li><li class=\"standard\"><a href=\"../august/index.html\">August</a></li><li class=\"standard\"><a href=\"../july/index.html\">July</a></li><li class=\"standard\"><a href=\"../june/index.html\">June</a></li><li class=\"standard\"><a href=\"../may/index.html\">May</a></li><li class=\"standard\"><a href=\"../april/index.html\">April</a></li><li class=\"standard\"><a href=\"../march/index.html\">March</a></li><li class=\"standard\"><a href=\"../february/index.html\">February</a></li><li class=\"standard\"><a href=\"../january/index.html\">January</a></li></ul></li><li class=\"standard\"><a href=\"../../2015/index.html\">2015</a></li><li class=\"standard\"><a href=\"../../2014/index.html\">2014</a></li><li class=\"standard\"><a href=\"http://www.cmu.edu/news/archive/2010/index.shtml\">2010</a></li><li class=\"standard\"><a href=\"http://www.cmu.edu/news/archive/2009/index.shtml\">2009</a></li><li class=\"standard\"><a href=\"../../older.html\">Older</a></li></ul></li><li class=\"standard\"><a href=\"../../../cit.html\">College of Engineering</a></li><li class=\"standard\"><a href=\"../../../cfa.html\">College of Fine Arts</a></li><li class=\"standard\"><a href=\"../../../hss.html\">Dietrich College of Humanities &amp; Social Sciences</a></li><li class=\"standard\"><a href=\"../../../hnz.html\">H. John Heinz III College</a></li><li class=\"standard\"><a href=\"../../../mcs.html\">Mellon College of Science</a></li><li class=\"standard\"><a href=\"../../../scs.html\">School of Computer Science</a></li><li class=\"standard\"><a href=\"../../../tpr.html\">Tepper School of Business</a></li><li class=\"standard\"><a href=\"http://www.cmu.edu/piper\">The Piper: Campus News</a></li><li class=\"standard\"><a href=\"http://www.carnegiemellontoday.com/\">Carnegie Mellon Today Magazine</a></li></ul></li><li class=\"standard\"><a href=\"../../../../experts/index.html\">Find an Expert</a></li><li class=\"standard\"><a href=\"../../../../clips/index.html\">Media Highlights</a></li><li class=\"standard\"><a href=\"../../../../resources/index.html\">Media Resources</a></li><li class=\"standard\"><a href=\"../../../../contact/index.html\">Contact Us</a></li></ul><div class=\"hr\"><hr /></div></div>\n",
      "    </div>\n",
      "    <div id=\"topnav\"><ul><li class=\"first\"><a href=\"http://www.cmu.edu/social-media/\">CMU's Social Media Channels</a></li></ul><div id=\"socialLinks\"><a href=\"http://www.facebook.com/carnegiemellonu\" id=\"facebook\" title=\"CMU on Facebook\" ></a> <a href=\"http://www.twitter.com/carnegiemellon\" id=\"twitter\" title=\"CMU on Twitter\" ></a> <a href=\"http://www.youtube.com/cmu\" id=\"youtube\" title=\"CMU on YouTube\" ></a> <a href=\"https://www.linkedin.com/edu/school?id=19232\" id=\"linkedin\" title=\"CMU on LinkedIn\" ></a> </div></div>\n",
      "    <div id=\"contentWrapper\">\n",
      "      \n",
      "      \n",
      "      <div id=\"breadcrumbs\">\n",
      "        \n",
      "    |<a class=\"home\" href=\"../../../../index.html\" title=\"CMU News Home Page\">CMU News</a>|\n",
      "  \n",
      "        \n",
      "      &gt;\n",
      "      <a href=\"../../../index.html\">Stories</a>\n",
      "      &gt;\n",
      "      <a href=\"../../index.html\">All News</a>\n",
      "      &gt;\n",
      "      <a href=\"../index.html\">2016</a>\n",
      "      &gt;\n",
      "      <a href=\"index.html\">September</a>\n",
      "      &gt;\n",
      "      Friends Help Friends on Facebook Feel Better\n",
      "      </div>\n",
      "      <a name=\"access\" ></a>\n",
      "      <div class=\"content2Column\" id=\"mainContent\">\n",
      "        <div class=\"boxTop\" ></div>\n",
      "        <div class=\"content\">\n",
      "          <p>Wednesday, September 7, 2016</p><h1>Friends Help Friends on Facebook Feel Better</h1><h2>CMU, Facebook Study Finds Personalized Communication Can Boost Your Well-Being</h2><address>By Byron Spice / 412-268-9068 / <a>bspice@cs.cmu.edu</a></address>\n",
      "<figure><img alt=\"Facebook Watering\" height=\"480\" src=\"images/facebook-watering_853x480-min.jpg\" width=\"853\" /></figure>\n",
      "<p><a href=\"mailto:bspice@cs.cmu.edu\" ></a>Personal interactions on Facebook can have a major impact on a person&#8217;s feelings of well-being and satisfaction with life just as much as getting married or having a baby, a new study by Carnegie Mellon University and Facebook researchers shows.</p>\n",
      "<p>But not just any interaction has these positive effects. Passively reading posts or one-click feedback such as &#8220;likes&#8221; don&#8217;t move the needle. What really makes people feel good is when those they know and care about write personalized posts or comments.</p>\n",
      "<p>&#8220;We&#8217;re not talking about anything that&#8217;s particularly labor-intensive,&#8221; said Moira Burke, a research scientist at Facebook who earned a Ph.D. in <a href=\"http://www.hcii.cmu.edu/\" target=\"_blank\">human-computer interaction</a> at Carnegie Mellon. &#8220;This can be a comment that&#8217;s just a sentence or two. The important thing is that someone such as a close friend takes the time to personalize it. The content may be uplifting, and the mere act of communication reminds recipients of the meaningful relationships in their lives.&#8221;</p>\n",
      "<p>Sixty comments from close friends in a month were associated with increases in users&#8217; psychological well-being as large as those associated with major life events, the study found.</p>\n",
      "<p>The findings by Burke and Robert Kraut, a professor in CMU&#8217;s <a href=\"http://www.hcii.cmu.edu/\" target=\"_blank\">Human-Computer Interaction Institute</a>, run counter to many previous studies based on user surveys, which often have shown that time spent on social media is associated with a greater likelihood of loneliness and depression.</p>\n",
      "<p>&#8220;You&#8217;re left to wonder &#8212; is it that unhappy people are using social media, or is social media affecting happiness?&#8221; Kraut said.</p>\n",
      "<p>The new study was able to resolve this &#8220;chicken-or-egg&#8221; dilemma by using Facebook logs to examine counts of participants&#8217; actual Facebook activity over a period of months. All participants opted in to the study and their data were de-identified and analyzed in aggregate. The content of the users&#8217; interactions was not analyzed.</p>\n",
      "<p>In addition to being more accurate than relying on people&#8217;s recollections of their online activity via commonly used surveys, this enabled Burke and Kraut to distinguish between types of activity &#8212; posting, passive reading, comments, likes, etc. &#8212; and whether the interactions were with people whom the users cared about or with lesser acquaintances. Previous studies have tended to lump together all social media activity and communication with close friends and acquaintances.</p>\n",
      "<p>&#8220;It turns out that when you talk with a little more depth on Facebook to people you already like, you feel better,&#8221; Kraut said. &#8220;That also happens when people talk in person.&#8221;</p>\n",
      "<p>&#8220;This suggests that people who are feeling down may indeed spend more time on social media, but they choose to do so because they&#8217;ve learned it makes them feel better,&#8221; Burke said. &#8220;They&#8217;re reminded of the people they care about in their lives.&#8221;</p>\n",
      "<p>The study, published by the Journal of Computer-Mediated Communication, was based on 1,910 Facebook users from 91 countries who were recruited with Facebook ads. Each agreed to take a monthly survey for three months and to have their responses joined with de-identified counts of their Facebook behavior from the month before each survey.</p>\n",
      "<p>By considering mood and behavior over time, Burke and Kraut&#8217;s study revealed that Facebook interactions with friends predicted improvements in such measures of well-being as satisfaction with life, happiness, loneliness and depression. Their research method allowed them to rule out possibilities that happier people simply use Facebook more or that well-being predicts changes in how people use the medium.</p>\n",
      "<p>Although this research did not use a random-assignment experiment, the gold standard for assessing causality, it examined the relationship between social media use and well-being over time and, by doing so, comes closer to establishing a causal relationship than can be shown using the one-time surveys common in most studies on this topic.</p>\n",
      "<p>The National Science Foundation and Google supported this research.</p>\n",
      "        </div>\n",
      "        <div class=\"boxBottom\" ></div>\n",
      "      </div>\n",
      "      \n",
      "    </div>\n",
      "    <div id=\"footer\"><ul class=\"contact\"><li class=\"first\">CMU News</li><li>5000 Forbes Avenue</li><li>Pittsburgh, PA 15213</li><li>(412) 268-2900</li></ul><ul class=\"links\"><li class=\"first\"><a href=\"http://www.cmu.edu/piper\">The Piper: Campus News</a></li><li><a href=\"http://www.carnegiemellontoday.com\">Carnegie Mellon Today Magazine</a></li><li><a href=\"http://www.cmu.edu/events\">Event Calendar</a></li><li><a href=\"http://www.cmu.edu\" title=\"Carnegie Mellon University\">Carnegie Mellon Home</a></li></ul></div>\n",
      "  </div>\n",
      "  <div id=\"pageFooter\" ></div>\n",
      "</div>\n",
      "</body>\n",
      "\n",
      "<!--This website design is tied to the university content management systemprovided by Carnegie Mellon's Computing Services. If you're interested inusing this design, please visit http://www.cmu.edu/cms to learn more.-->\n",
      "</html>\n"
     ]
    }
   ],
   "source": [
    "page = urllib2.urlopen(url).read()\n",
    "print page"
   ]
  },
  {
   "cell_type": "markdown",
   "metadata": {},
   "source": [
    "### 2.2 Extract Raw Text"
   ]
  },
  {
   "cell_type": "code",
   "execution_count": 118,
   "metadata": {
    "collapsed": true
   },
   "outputs": [],
   "source": [
    "soup = BeautifulSoup(page, \"lxml\")"
   ]
  },
  {
   "cell_type": "code",
   "execution_count": 129,
   "metadata": {
    "collapsed": true
   },
   "outputs": [],
   "source": [
    "content = soup.find('div', attrs={ \"class\" : \"content\"})"
   ]
  },
  {
   "cell_type": "code",
   "execution_count": 148,
   "metadata": {
    "collapsed": false
   },
   "outputs": [
    {
     "name": "stdout",
     "output_type": "stream",
     "text": [
      "\n",
      "Wednesday, September 7, 2016Friends Help Friends on Facebook Feel BetterCMU, Facebook Study Finds Personalized Communication Can Boost Your Well-BeingBy Byron Spice / 412-268-9068 / bspice@cs.cmu.edu\n",
      "\n",
      "Personal interactions on Facebook can have a major impact on a person’s feelings of well-being and satisfaction with life just as much as getting married or having a baby, a new study by Carnegie Mellon University and Facebook researchers shows.\n",
      "But not just any interaction has these positive effects. Passively reading posts or one-click feedback such as “likes” don’t move the needle. What really makes people feel good is when those they know and care about write personalized posts or comments.\n",
      "“We’re not talking about anything that’s particularly labor-intensive,” said Moira Burke, a research scientist at Facebook who earned a Ph.D. in human-computer interaction at Carnegie Mellon. “This can be a comment that’s just a sentence or two. The important thing is that someone such as a close friend takes the time to personalize it. The content may be uplifting, and the mere act of communication reminds recipients of the meaningful relationships in their lives.”\n",
      "Sixty comments from close friends in a month were associated with increases in users’ psychological well-being as large as those associated with major life events, the study found.\n",
      "The findings by Burke and Robert Kraut, a professor in CMU’s Human-Computer Interaction Institute, run counter to many previous studies based on user surveys, which often have shown that time spent on social media is associated with a greater likelihood of loneliness and depression.\n",
      "“You’re left to wonder — is it that unhappy people are using social media, or is social media affecting happiness?” Kraut said.\n",
      "The new study was able to resolve this “chicken-or-egg” dilemma by using Facebook logs to examine counts of participants’ actual Facebook activity over a period of months. All participants opted in to the study and their data were de-identified and analyzed in aggregate. The content of the users’ interactions was not analyzed.\n",
      "In addition to being more accurate than relying on people’s recollections of their online activity via commonly used surveys, this enabled Burke and Kraut to distinguish between types of activity — posting, passive reading, comments, likes, etc. — and whether the interactions were with people whom the users cared about or with lesser acquaintances. Previous studies have tended to lump together all social media activity and communication with close friends and acquaintances.\n",
      "“It turns out that when you talk with a little more depth on Facebook to people you already like, you feel better,” Kraut said. “That also happens when people talk in person.”\n",
      "“This suggests that people who are feeling down may indeed spend more time on social media, but they choose to do so because they’ve learned it makes them feel better,” Burke said. “They’re reminded of the people they care about in their lives.”\n",
      "The study, published by the Journal of Computer-Mediated Communication, was based on 1,910 Facebook users from 91 countries who were recruited with Facebook ads. Each agreed to take a monthly survey for three months and to have their responses joined with de-identified counts of their Facebook behavior from the month before each survey.\n",
      "By considering mood and behavior over time, Burke and Kraut’s study revealed that Facebook interactions with friends predicted improvements in such measures of well-being as satisfaction with life, happiness, loneliness and depression. Their research method allowed them to rule out possibilities that happier people simply use Facebook more or that well-being predicts changes in how people use the medium.\n",
      "Although this research did not use a random-assignment experiment, the gold standard for assessing causality, it examined the relationship between social media use and well-being over time and, by doing so, comes closer to establishing a causal relationship than can be shown using the one-time surveys common in most studies on this topic.\n",
      "The National Science Foundation and Google supported this research.\n",
      "\n"
     ]
    }
   ],
   "source": [
    "print content.text"
   ]
  },
  {
   "cell_type": "markdown",
   "metadata": {},
   "source": [
    "### 2.3 Construct Structured Data"
   ]
  },
  {
   "cell_type": "code",
   "execution_count": 155,
   "metadata": {
    "collapsed": true
   },
   "outputs": [],
   "source": [
    "def get_time(content):\n",
    "    return content.find('p').text\n",
    "\n",
    "def get_title(content):\n",
    "    return content.find('h1').text\n",
    "\n",
    "def get_summary(content):\n",
    "    return content.find('h2').text\n",
    "\n",
    "def get_author(content):\n",
    "    return content.find('address').text\n",
    "\n",
    "def get_image(content):\n",
    "    try:\n",
    "        return content.find('figure').find(\"img\")['src']\n",
    "    except:\n",
    "        return \"\"\n",
    "    \n",
    "def get_body(content):\n",
    "    ps = content.findAll(\"p\")\n",
    "    body = [p.text for p in ps[1:]]\n",
    "    return body"
   ]
  },
  {
   "cell_type": "code",
   "execution_count": 156,
   "metadata": {
    "collapsed": true
   },
   "outputs": [],
   "source": [
    "article = {}"
   ]
  },
  {
   "cell_type": "code",
   "execution_count": 157,
   "metadata": {
    "collapsed": false
   },
   "outputs": [],
   "source": [
    "article['time'] = get_time(content)\n",
    "article['title'] = get_title(content)\n",
    "article['summary'] = get_summary(content)\n",
    "article['author'] = get_author(content)\n",
    "article['image'] = get_image(content)\n",
    "article['text'] = get_body(content)"
   ]
  },
  {
   "cell_type": "code",
   "execution_count": 158,
   "metadata": {
    "collapsed": false
   },
   "outputs": [
    {
     "data": {
      "text/plain": [
       "{'author': u'By Byron Spice / 412-268-9068 / bspice@cs.cmu.edu',\n",
       " 'image': 'images/facebook-watering_853x480-min.jpg',\n",
       " 'summary': u'CMU, Facebook Study Finds Personalized Communication Can Boost Your Well-Being',\n",
       " 'text': [u'Personal interactions on Facebook can have a major impact on a person\\u2019s feelings of well-being and satisfaction with life just as much as getting married or having a baby, a new study by Carnegie Mellon University and Facebook researchers shows.',\n",
       "  u'But not just any interaction has these positive effects. Passively reading posts or one-click feedback such as \\u201clikes\\u201d don\\u2019t move the needle. What really makes people feel good is when those they know and care about write personalized posts or comments.',\n",
       "  u'\\u201cWe\\u2019re not talking about anything that\\u2019s particularly labor-intensive,\\u201d said Moira Burke, a research scientist at Facebook who earned a Ph.D. in human-computer interaction at Carnegie Mellon. \\u201cThis can be a comment that\\u2019s just a sentence or two. The important thing is that someone such as a close friend takes the time to personalize it. The content may be uplifting, and the mere act of communication reminds recipients of the meaningful relationships in their lives.\\u201d',\n",
       "  u'Sixty comments from close friends in a month were associated with increases in users\\u2019 psychological well-being as large as those associated with major life events, the study found.',\n",
       "  u'The findings by Burke and Robert Kraut, a professor in CMU\\u2019s Human-Computer Interaction Institute, run counter to many previous studies based on user surveys, which often have shown that time spent on social media is associated with a greater likelihood of loneliness and depression.',\n",
       "  u'\\u201cYou\\u2019re left to wonder \\u2014 is it that unhappy people are using social media, or is social media affecting happiness?\\u201d Kraut said.',\n",
       "  u'The new study was able to resolve this \\u201cchicken-or-egg\\u201d dilemma by using Facebook logs to examine counts of participants\\u2019 actual Facebook activity over a period of months. All participants opted in to the study and their data were de-identified and analyzed in aggregate. The content of the users\\u2019 interactions was not analyzed.',\n",
       "  u'In addition to being more accurate than relying on people\\u2019s recollections of their online activity via commonly used surveys, this enabled Burke and Kraut to distinguish between types of activity \\u2014 posting, passive reading, comments, likes, etc. \\u2014 and whether the interactions were with people whom the users cared about or with lesser acquaintances. Previous studies have tended to lump together all social media activity and communication with close friends and acquaintances.',\n",
       "  u'\\u201cIt turns out that when you talk with a little more depth on Facebook to people you already like, you feel better,\\u201d Kraut said. \\u201cThat also happens when people talk in person.\\u201d',\n",
       "  u'\\u201cThis suggests that people who are feeling down may indeed spend more time on social media, but they choose to do so because they\\u2019ve learned it makes them feel better,\\u201d Burke said. \\u201cThey\\u2019re reminded of the people they care about in their lives.\\u201d',\n",
       "  u'The study, published by the Journal of Computer-Mediated Communication, was based on 1,910 Facebook users from 91 countries who were recruited with Facebook ads. Each agreed to take a monthly survey for three months and to have their responses joined with de-identified counts of their Facebook behavior from the month before each survey.',\n",
       "  u'By considering mood and behavior over time, Burke and Kraut\\u2019s study revealed that Facebook interactions with friends predicted improvements in such measures of well-being as satisfaction with life, happiness, loneliness and depression. Their research method allowed them to rule out possibilities that happier people simply use Facebook more or that well-being predicts changes in how people use the medium.',\n",
       "  u'Although this research did not use a random-assignment experiment, the gold standard for assessing causality, it examined the relationship between social media use and well-being over time and, by doing so, comes closer to establishing a causal relationship than can be shown using the one-time surveys common in most studies on this topic.',\n",
       "  u'The National Science Foundation and Google supported this research.'],\n",
       " 'time': u'Wednesday, September 7, 2016',\n",
       " 'title': u'Friends Help Friends on Facebook Feel Better'}"
      ]
     },
     "execution_count": 158,
     "metadata": {},
     "output_type": "execute_result"
    }
   ],
   "source": [
    "article"
   ]
  },
  {
   "cell_type": "markdown",
   "metadata": {},
   "source": [
    "## 3. Problems"
   ]
  },
  {
   "cell_type": "markdown",
   "metadata": {},
   "source": [
    "### 3.1 URL decoding"
   ]
  },
  {
   "cell_type": "markdown",
   "metadata": {},
   "source": [
    "![title2](img/url.png)"
   ]
  },
  {
   "cell_type": "markdown",
   "metadata": {},
   "source": [
    "![title](img/wiki.png)"
   ]
  },
  {
   "cell_type": "code",
   "execution_count": 173,
   "metadata": {
    "collapsed": true
   },
   "outputs": [],
   "source": [
    "with open(\"wiki_urls.txt\", \"r\") as f:\n",
    "    for line in f:\n",
    "        title = line"
   ]
  },
  {
   "cell_type": "code",
   "execution_count": 174,
   "metadata": {
    "collapsed": false
   },
   "outputs": [
    {
     "name": "stdout",
     "output_type": "stream",
     "text": [
      "https://en.wikipedia.org/wiki/University_of_Illinois_at_Urbana%E2%80%93Champaign\n"
     ]
    }
   ],
   "source": [
    "print title"
   ]
  },
  {
   "cell_type": "code",
   "execution_count": 175,
   "metadata": {
    "collapsed": false
   },
   "outputs": [
    {
     "name": "stdout",
     "output_type": "stream",
     "text": [
      "https://en.wikipedia.org/wiki/University_of_Illinois_at_Urbana–Champaign\n"
     ]
    }
   ],
   "source": [
    "import urllib2\n",
    "cleaned = urllib2.unquote(title)\n",
    "print cleaned"
   ]
  },
  {
   "cell_type": "markdown",
   "metadata": {},
   "source": [
    "### 3.2 Time format"
   ]
  },
  {
   "cell_type": "code",
   "execution_count": 161,
   "metadata": {
    "collapsed": true
   },
   "outputs": [],
   "source": [
    "import dateutil"
   ]
  },
  {
   "cell_type": "code",
   "execution_count": 163,
   "metadata": {
    "collapsed": false
   },
   "outputs": [
    {
     "name": "stdout",
     "output_type": "stream",
     "text": [
      "2016-09-07 00:00:00\n"
     ]
    }
   ],
   "source": [
    "from dateutil.parser import parse\n",
    "dt = parse('Wednesday, September 7, 2016')\n",
    "print(dt)"
   ]
  },
  {
   "cell_type": "markdown",
   "metadata": {},
   "source": [
    "### 3.3 Number format"
   ]
  },
  {
   "cell_type": "code",
   "execution_count": 165,
   "metadata": {
    "collapsed": false
   },
   "outputs": [],
   "source": [
    "number_text = \"1,234\"\n",
    "real_number = int(number_text.replace(\",\",\"\"))"
   ]
  },
  {
   "cell_type": "code",
   "execution_count": 166,
   "metadata": {
    "collapsed": false
   },
   "outputs": [
    {
     "data": {
      "text/plain": [
       "1234"
      ]
     },
     "execution_count": 166,
     "metadata": {},
     "output_type": "execute_result"
    }
   ],
   "source": [
    "real_number"
   ]
  },
  {
   "cell_type": "code",
   "execution_count": null,
   "metadata": {
    "collapsed": true
   },
   "outputs": [],
   "source": []
  }
 ],
 "metadata": {
  "kernelspec": {
   "display_name": "Python 2",
   "language": "python",
   "name": "python2"
  },
  "language_info": {
   "codemirror_mode": {
    "name": "ipython",
    "version": 2
   },
   "file_extension": ".py",
   "mimetype": "text/x-python",
   "name": "python",
   "nbconvert_exporter": "python",
   "pygments_lexer": "ipython2",
   "version": "2.7.11"
  }
 },
 "nbformat": 4,
 "nbformat_minor": 0
}
