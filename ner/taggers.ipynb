{
 "cells": [
  {
   "cell_type": "markdown",
   "metadata": {},
   "source": [
    "### 1. Named Entity Recognition"
   ]
  },
  {
   "cell_type": "markdown",
   "metadata": {},
   "source": [
    "#### 1.1 Stanford CoreNLP\n",
    "\n",
    "![title](img/stan.png)\n",
    "\n",
    "#### Pro: \n",
    "1. Nice documentation;\n",
    "2. Widely used: extenstions (in multiple languages): http://nlp.stanford.edu/software/CRF-NER.html\n",
    "3. Robustness: http://stanfordnlp.github.io/CoreNLP/caseless.html\n",
    "\n",
    "#### Con:\n",
    "1. \"The documentation for training your own classifier is somewhere between bad and non-existent\"\n",
    "\n",
    "\n",
    "#### 1.2 Illinois NER\n",
    "\n",
    "![title](img/il.png)\n",
    "\n",
    "Download it from https://github.com/IllinoisCogComp/illinois-cogcomp-nlp (don't download from website)\n",
    "Total time to compile: 17:38 min\n",
    "\n",
    "#### Pro:\n",
    "1. Easy to train\n",
    "\n",
    "#### Con:\n",
    "1. Not as widely used as Stanford (primarily Java)\n",
    "2. Website code is not correctly configured (use github repo instead)\n",
    "\n",
    "#### 1.3 FACTORIE\n",
    "\n",
    "Documentation is not enough"
   ]
  },
  {
   "cell_type": "markdown",
   "metadata": {},
   "source": [
    "## 1.4 Apply to Tweets?\n",
    "![title](img/stper.png)\n",
    "Ritter, A., Clark, S., & Etzioni, O. (2011, July). Named entity recognition in tweets: an experimental study. In Proceedings of the Conference on Empirical Methods in Natural Language Processing (pp. 1524-1534). Association for Computational Linguistics.\n",
    "### Twitter NLP by Ritter et al.\n",
    "\n",
    "#### URL : https://github.com/aritter/twitter_nlp"
   ]
  },
  {
   "cell_type": "markdown",
   "metadata": {},
   "source": [
    "@inproceedings{Ritter11,\n",
    "  author = {Ritter, Alan and Clark, Sam and Mausam and Etzioni, Oren},\n",
    "  title = {Named Entity Recognition in Tweets: An Experimental Study},\n",
    "  booktitle = {EMNLP},\n",
    "  year = {2011}\n",
    "}\n",
    "\n",
    "@inproceedings{Ritter12,\n",
    "  author = {Ritter, Alan and Mausam and Etzioni, Oren and Clark, Sam},\n",
    "  title = {Open Domain Event Extraction from Twitter},\n",
    "  booktitle = {KDD},\n",
    "  year = {2012}\n",
    "}"
   ]
  },
  {
   "cell_type": "markdown",
   "metadata": {},
   "source": [
    "### 2 POS tagging"
   ]
  },
  {
   "cell_type": "markdown",
   "metadata": {},
   "source": [
    "### Tweet NLP at CMU\n",
    "\n",
    "![title](img/cmutweet.png)\n"
   ]
  },
  {
   "cell_type": "markdown",
   "metadata": {},
   "source": [
    "focusing on tokenization and POS tagging"
   ]
  },
  {
   "cell_type": "markdown",
   "metadata": {},
   "source": [
    "#### Pro:"
   ]
  },
  {
   "cell_type": "markdown",
   "metadata": {},
   "source": [
    "1. good at dealing with special tweet tokens\n",
    "\n",
    "![title](img/special.png)\n"
   ]
  },
  {
   "cell_type": "markdown",
   "metadata": {},
   "source": [
    "## Sentiment Analysis\n",
    "\n",
    "### TextBlob (quickly available)\n",
    "\n",
    "It's written in Python. \"It provides a consistent API for diving into common natural language processing (NLP) tasks such as part-of-speech tagging, noun phrase extraction, sentiment analysis, and more.\""
   ]
  },
  {
   "cell_type": "markdown",
   "metadata": {},
   "source": [
    "\n",
    "Features\n",
    "\n",
    "    Noun phrase extraction\n",
    "    Part-of-speech tagging\n",
    "    Sentiment analysis\n",
    "    Classification (Naive Bayes, Decision Tree)\n",
    "    Language translation and detection powered by Google Translate\n",
    "    Tokenization (splitting text into words and sentences)\n",
    "    Word and phrase frequencies\n",
    "    Parsing\n",
    "    n-grams\n",
    "    Word inflection (pluralization and singularization) and lemmatization\n",
    "    Spelling correction\n",
    "    Add new models or languages through extensions\n",
    "    WordNet integration"
   ]
  },
  {
   "cell_type": "code",
   "execution_count": 5,
   "metadata": {
    "collapsed": false
   },
   "outputs": [
    {
     "name": "stdout",
     "output_type": "stream",
     "text": [
      "[('The', u'DT'), ('titular', u'JJ'), ('threat', u'NN'), ('of', u'IN'), ('The', u'DT'), ('Blob', u'NNP'), ('has', u'VBZ'), ('always', u'RB'), ('struck', u'VBN'), ('me', u'PRP'), ('as', u'IN'), ('the', u'DT'), ('ultimate', u'JJ'), ('movie', u'NN'), ('monster', u'NN'), ('an', u'DT'), ('insatiably', u'RB'), ('hungry', u'JJ'), ('amoeba-like', u'JJ'), ('mass', u'NN'), ('able', u'JJ'), ('to', u'TO'), ('penetrate', u'VB'), ('virtually', u'RB'), ('any', u'DT'), ('safeguard', u'NN'), ('capable', u'JJ'), ('of', u'IN'), ('as', u'IN'), ('a', u'DT'), ('doomed', u'JJ'), ('doctor', u'NN'), ('chillingly', u'RB'), ('describes', u'VBZ'), ('it', u'PRP'), ('assimilating', u'VBG'), ('flesh', u'NN'), ('on', u'IN'), ('contact', u'NN'), ('Snide', u'JJ'), ('comparisons', u'NNS'), ('to', u'TO'), ('gelatin', u'VB'), ('be', u'VB'), ('damned', u'VBN'), ('it', u'PRP'), (\"'s\", u'VBZ'), ('a', u'DT'), ('concept', u'NN'), ('with', u'IN'), ('the', u'DT'), ('most', u'RBS'), ('devastating', u'JJ'), ('of', u'IN'), ('potential', u'JJ'), ('consequences', u'NNS'), ('not', u'RB'), ('unlike', u'IN'), ('the', u'DT'), ('grey', u'NN'), ('goo', u'NN'), ('scenario', u'NN'), ('proposed', u'VBN'), ('by', u'IN'), ('technological', u'JJ'), ('theorists', u'NNS'), ('fearful', u'NN'), ('of', u'IN'), ('artificial', u'JJ'), ('intelligence', u'NN'), ('run', u'NN'), ('rampant', u'NN')]\n",
      "[u'titular threat', 'blob', u'ultimate movie monster', u'amoeba-like mass', 'snide', u'potential consequences', u'grey goo scenario', u'technological theorists fearful', u'artificial intelligence run rampant']\n",
      "0.06\n",
      "-0.341666666667\n"
     ]
    }
   ],
   "source": [
    "from textblob import TextBlob\n",
    "\n",
    "text = '''\n",
    "The titular threat of The Blob has always struck me as the ultimate movie\n",
    "monster: an insatiably hungry, amoeba-like mass able to penetrate\n",
    "virtually any safeguard, capable of--as a doomed doctor chillingly\n",
    "describes it--\"assimilating flesh on contact.\n",
    "Snide comparisons to gelatin be damned, it's a concept with the most\n",
    "devastating of potential consequences, not unlike the grey goo scenario\n",
    "proposed by technological theorists fearful of\n",
    "artificial intelligence run rampant.\n",
    "'''\n",
    "\n",
    "blob = TextBlob(text)\n",
    "print blob.tags           # [('The', 'DT'), ('titular', 'JJ'),\n",
    "                    #  ('threat', 'NN'), ('of', 'IN'), ...]\n",
    "\n",
    "print blob.noun_phrases   # WordList(['titular threat', 'blob',\n",
    "                    #            'ultimate movie monster',\n",
    "                    #            'amoeba-like mass', ...])\n",
    "\n",
    "for sentence in blob.sentences:\n",
    "    print(sentence.sentiment.polarity)\n",
    "# 0.060\n",
    "# -0.341"
   ]
  }
 ],
 "metadata": {
  "anaconda-cloud": {},
  "kernelspec": {
   "display_name": "Python [default]",
   "language": "python",
   "name": "python2"
  },
  "language_info": {
   "codemirror_mode": {
    "name": "ipython",
    "version": 2
   },
   "file_extension": ".py",
   "mimetype": "text/x-python",
   "name": "python",
   "nbconvert_exporter": "python",
   "pygments_lexer": "ipython2",
   "version": "2.7.12"
  }
 },
 "nbformat": 4,
 "nbformat_minor": 1
}
