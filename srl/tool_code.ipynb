{
 "cells": [
  {
   "cell_type": "code",
   "execution_count": 10,
   "metadata": {
    "collapsed": true
   },
   "outputs": [],
   "source": [
    "text = \"I eat an apple when I was interview at Apple.\""
   ]
  },
  {
   "cell_type": "markdown",
   "metadata": {},
   "source": [
    "## Tool 1: practnlptools"
   ]
  },
  {
   "cell_type": "code",
   "execution_count": 11,
   "metadata": {
    "collapsed": true
   },
   "outputs": [],
   "source": [
    "from practnlptools.tools import Annotator\n",
    "\n",
    "annotator=Annotator()"
   ]
  },
  {
   "cell_type": "code",
   "execution_count": 12,
   "metadata": {
    "collapsed": false
   },
   "outputs": [
    {
     "data": {
      "text/plain": [
       "{'chunk': [('I', 'S-NP'),\n",
       "  ('eat', 'S-VP'),\n",
       "  ('an', 'B-NP'),\n",
       "  ('apple', 'E-NP'),\n",
       "  ('when', 'S-ADVP'),\n",
       "  ('I', 'S-NP'),\n",
       "  ('was', 'S-VP'),\n",
       "  ('interview', 'S-NP'),\n",
       "  ('at', 'S-PP'),\n",
       "  ('Apple', 'S-NP'),\n",
       "  ('.', 'O')],\n",
       " 'dep_parse': 'nsubj(eat-2, I-1)\\nroot(ROOT-0, eat-2)\\ndet(apple-4, an-3)\\ndobj(eat-2, apple-4)\\nadvmod(interview-8, when-5)\\nnsubj(interview-8, I-6)\\ncop(interview-8, was-7)\\nadvcl(eat-2, interview-8)\\nprep_at(interview-8, Apple-10)',\n",
       " 'ner': [('I', 'O'),\n",
       "  ('eat', 'O'),\n",
       "  ('an', 'O'),\n",
       "  ('apple', 'O'),\n",
       "  ('when', 'O'),\n",
       "  ('I', 'O'),\n",
       "  ('was', 'O'),\n",
       "  ('interview', 'O'),\n",
       "  ('at', 'O'),\n",
       "  ('Apple', 'S-LOC'),\n",
       "  ('.', 'O')],\n",
       " 'pos': [('I', 'PRP'),\n",
       "  ('eat', 'VBP'),\n",
       "  ('an', 'DT'),\n",
       "  ('apple', 'NN'),\n",
       "  ('when', 'WRB'),\n",
       "  ('I', 'PRP'),\n",
       "  ('was', 'VBD'),\n",
       "  ('interview', 'NN'),\n",
       "  ('at', 'IN'),\n",
       "  ('Apple', 'NNP'),\n",
       "  ('.', '.')],\n",
       " 'srl': [{'A0': 'I', 'A1': 'an apple', 'V': 'eat'}],\n",
       " 'syntax_tree': '(S1(S(NP(PRP I))(VP(VBP eat)(NP(DT an)(NN apple))(SBAR(WHADVP(WRB when))(S(NP(PRP I))(VP(VBD was)(NP(NP(NN interview))(PP(IN at)(NP(NNP Apple))))))))(. .)))',\n",
       " 'verbs': ['eat'],\n",
       " 'words': ['I',\n",
       "  'eat',\n",
       "  'an',\n",
       "  'apple',\n",
       "  'when',\n",
       "  'I',\n",
       "  'was',\n",
       "  'interview',\n",
       "  'at',\n",
       "  'Apple',\n",
       "  '.']}"
      ]
     },
     "execution_count": 12,
     "metadata": {},
     "output_type": "execute_result"
    }
   ],
   "source": [
    "annotator.getAnnotations(text, dep_parse=True)"
   ]
  },
  {
   "cell_type": "markdown",
   "metadata": {},
   "source": [
    "### Pros\n",
    "Easy to install and use    \n",
    "Fast\n",
    "### Cons\n",
    "gives limited tags "
   ]
  },
  {
   "cell_type": "markdown",
   "metadata": {},
   "source": [
    "## Tool 2: Semafor"
   ]
  },
  {
   "cell_type": "code",
   "execution_count": 13,
   "metadata": {
    "collapsed": false
   },
   "outputs": [
    {
     "data": {
      "text/plain": [
       "{'frames': [{'annotationSets': [{'frameElements': [],\n",
       "     'rank': 0,\n",
       "     'score': 32.1802482995582}],\n",
       "   'target': {'name': 'Ingestion',\n",
       "    'spans': [{'end': 2, 'start': 1, 'text': 'eat'}]}},\n",
       "  {'annotationSets': [{'frameElements': [{'name': 'Food',\n",
       "       'spans': [{'end': 4, 'start': 3, 'text': 'apple'}]}],\n",
       "     'rank': 0,\n",
       "     'score': 22.57421238173688}],\n",
       "   'target': {'name': 'Food',\n",
       "    'spans': [{'end': 4, 'start': 3, 'text': 'apple'}]}},\n",
       "  {'annotationSets': [{'frameElements': [],\n",
       "     'rank': 0,\n",
       "     'score': 24.19445037584726}],\n",
       "   'target': {'name': 'Temporal_collocation',\n",
       "    'spans': [{'end': 5, 'start': 4, 'text': 'when'}]}},\n",
       "  {'annotationSets': [{'frameElements': [{'name': 'Food',\n",
       "       'spans': [{'end': 10, 'start': 9, 'text': 'Apple'}]}],\n",
       "     'rank': 0,\n",
       "     'score': 21.21294882061418}],\n",
       "   'target': {'name': 'Food',\n",
       "    'spans': [{'end': 10, 'start': 9, 'text': 'Apple'}]}}],\n",
       " 'tokens': ['I',\n",
       "  'eat',\n",
       "  'an',\n",
       "  'apple',\n",
       "  'when',\n",
       "  'I',\n",
       "  'was',\n",
       "  'interview',\n",
       "  'at',\n",
       "  'Apple',\n",
       "  '.']}"
      ]
     },
     "execution_count": 13,
     "metadata": {},
     "output_type": "execute_result"
    }
   ],
   "source": []
  },
  {
   "cell_type": "markdown",
   "metadata": {},
   "source": [
    "### Pros\n",
    "Good performance    \n",
    "Comprehensive documentation on model and software\n",
    "\n",
    "### Cons\n",
    "Time overhead is relatively big     \n",
    "Model doesn't seem to recognize NER"
   ]
  },
  {
   "cell_type": "markdown",
   "metadata": {},
   "source": [
    "## Other tools for non-English"
   ]
  },
  {
   "cell_type": "markdown",
   "metadata": {},
   "source": [
    "nlpnet — Natural Language Processing with neural networks\n",
    "\n",
    "http://nilc.icmc.usp.br/nlpnet/"
   ]
  },
  {
   "cell_type": "markdown",
   "metadata": {},
   "source": [
    "LTP by Harbin Institute of Technology\n",
    "\n",
    "http://www.ltp-cloud.com/intro/"
   ]
  },
  {
   "cell_type": "code",
   "execution_count": null,
   "metadata": {
    "collapsed": true
   },
   "outputs": [],
   "source": []
  }
 ],
 "metadata": {
  "kernelspec": {
   "display_name": "Python 2",
   "language": "python",
   "name": "python2"
  },
  "language_info": {
   "codemirror_mode": {
    "name": "ipython",
    "version": 2
   },
   "file_extension": ".py",
   "mimetype": "text/x-python",
   "name": "python",
   "nbconvert_exporter": "python",
   "pygments_lexer": "ipython2",
   "version": "2.7.11"
  }
 },
 "nbformat": 4,
 "nbformat_minor": 0
}
