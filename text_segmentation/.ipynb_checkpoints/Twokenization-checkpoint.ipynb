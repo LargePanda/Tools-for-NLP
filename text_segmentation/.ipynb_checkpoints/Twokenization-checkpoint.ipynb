{
 "cells": [
  {
   "cell_type": "markdown",
   "metadata": {},
   "source": [
    "## Tweet Tokenization"
   ]
  },
  {
   "cell_type": "markdown",
   "metadata": {
    "collapsed": true
   },
   "source": [
    "This report compares four different tokenization tools for tweets."
   ]
  },
  {
   "cell_type": "markdown",
   "metadata": {},
   "source": [
    "### 0. Tweets"
   ]
  },
  {
   "cell_type": "code",
   "execution_count": 4,
   "metadata": {
    "collapsed": true
   },
   "outputs": [],
   "source": [
    "import pickle"
   ]
  },
  {
   "cell_type": "code",
   "execution_count": 5,
   "metadata": {
    "collapsed": false
   },
   "outputs": [],
   "source": [
    "with open(\"/Users/erichsu/Documents/research/illinois_twikifier/data/tweets_dump.pickle\") as f:\n",
    "    tweets = pickle.load(f)"
   ]
  },
  {
   "cell_type": "markdown",
   "metadata": {},
   "source": [
    "#### Here are some samples:"
   ]
  },
  {
   "cell_type": "code",
   "execution_count": 6,
   "metadata": {
    "collapsed": false
   },
   "outputs": [
    {
     "name": "stdout",
     "output_type": "stream",
     "text": [
      "92871487282880512 Create the future by controlling the present and forgetting the past.\n",
      "92466213782962176 As a #Sagittarius,Your personal fulfillment comes from being free to explore, grow, and understand the mysteries of life and yourself.\n",
      "92309026221735939 When you were a kid, you would slide back and forth in the bathtub to create waves.\n",
      "93485399028146176 @ZoBaby2332 I'm goin on the 25th lol\n",
      "91714467297099776 #Aquarius are curious and always ready for something new!\n",
      "93005714452267009 Flying car retailing $227,000 could be on roads in matter of months -- and customers are already lining up http://t.co/MrNVCVm #worththewait\n",
      "91713112373334016 As accepting as the #Leo is, their mate needs to be an intellectual equal to make the cut.\n",
      "91654882662158336 When I first met my wife the only thing I wanted to change about her was her last name. #Manology\n",
      "101336348627173376 Greater Manchester Police: Two men sentenced to 10 weeks and 16 weeks for their part in last night's disorder\n",
      "92681654858035201 Something rotting in the empire...Need Shakespeare to do justice to Murdoch drama/\n"
     ]
    }
   ],
   "source": [
    "for tweet in tweets.values()[0:10]:\n",
    "    print tweet['id'], tweet['text']"
   ]
  },
  {
   "cell_type": "code",
   "execution_count": 7,
   "metadata": {
    "collapsed": false
   },
   "outputs": [
    {
     "name": "stdout",
     "output_type": "stream",
     "text": [
      "Heard about the stage collapsing at the Indiana State Fair where SugarLand was set to perform...killing&injuring ppl :(  #Prayers &hearts;\n"
     ]
    }
   ],
   "source": [
    "tweet = tweets[\"102580796497461248\"]['text']\n",
    "print tweet"
   ]
  },
  {
   "cell_type": "markdown",
   "metadata": {},
   "source": [
    "#### Here is the result of normal tokenizer (from NLTK)"
   ]
  },
  {
   "cell_type": "code",
   "execution_count": 8,
   "metadata": {
    "collapsed": false
   },
   "outputs": [
    {
     "data": {
      "text/plain": [
       "[u'Heard',\n",
       " u'about',\n",
       " u'the',\n",
       " u'stage',\n",
       " u'collapsing',\n",
       " u'at',\n",
       " u'the',\n",
       " u'Indiana',\n",
       " u'State',\n",
       " u'Fair',\n",
       " u'where',\n",
       " u'SugarLand',\n",
       " u'was',\n",
       " u'set',\n",
       " u'to',\n",
       " u'perform',\n",
       " u'...',\n",
       " u'killing',\n",
       " u'&',\n",
       " u'injuring',\n",
       " u'ppl',\n",
       " u':',\n",
       " u'(',\n",
       " u'#',\n",
       " u'Prayers',\n",
       " u'&',\n",
       " u'hearts',\n",
       " u';']"
      ]
     },
     "execution_count": 8,
     "metadata": {},
     "output_type": "execute_result"
    }
   ],
   "source": [
    "from nltk import word_tokenize\n",
    "tokens = word_tokenize(tweet)\n",
    "tokens"
   ]
  },
  {
   "cell_type": "code",
   "execution_count": 9,
   "metadata": {
    "collapsed": true
   },
   "outputs": [],
   "source": [
    "def default(text):\n",
    "    return word_tokenize(text)"
   ]
  },
  {
   "cell_type": "markdown",
   "metadata": {},
   "source": [
    "### 1. Tweet NLP"
   ]
  },
  {
   "cell_type": "markdown",
   "metadata": {},
   "source": [
    "![title](img/tweetNLP.png)"
   ]
  },
  {
   "cell_type": "code",
   "execution_count": 10,
   "metadata": {
    "collapsed": true
   },
   "outputs": [],
   "source": [
    "from twokenize import *"
   ]
  },
  {
   "cell_type": "code",
   "execution_count": 11,
   "metadata": {
    "collapsed": false
   },
   "outputs": [],
   "source": [
    "def tweetNLP(text):\n",
    "    return tokenizeRawTweetText(text)"
   ]
  },
  {
   "cell_type": "markdown",
   "metadata": {},
   "source": [
    "### 2. NLTK TweetTokenizer"
   ]
  },
  {
   "cell_type": "markdown",
   "metadata": {},
   "source": [
    "![title](img/nltk.png)"
   ]
  },
  {
   "cell_type": "code",
   "execution_count": 12,
   "metadata": {
    "collapsed": true
   },
   "outputs": [],
   "source": [
    "from nltk.tokenize import TweetTokenizer\n",
    "tknz = TweetTokenizer()"
   ]
  },
  {
   "cell_type": "code",
   "execution_count": 13,
   "metadata": {
    "collapsed": false
   },
   "outputs": [],
   "source": [
    "def nltk(text):\n",
    "    return tknz.tokenize(text)"
   ]
  },
  {
   "cell_type": "markdown",
   "metadata": {},
   "source": [
    "### 3. Twitter NLP"
   ]
  },
  {
   "cell_type": "markdown",
   "metadata": {},
   "source": [
    "OSU Twitter NLP Tools: https://github.com/aritter/twitter_nlp"
   ]
  },
  {
   "cell_type": "code",
   "execution_count": 14,
   "metadata": {
    "collapsed": true
   },
   "outputs": [],
   "source": [
    "import sys\n",
    "path = '../../twitter_nlp-master/python'\n",
    "sys.path.append(path)"
   ]
  },
  {
   "cell_type": "code",
   "execution_count": 15,
   "metadata": {
    "collapsed": true
   },
   "outputs": [],
   "source": [
    "from twokenize_wrapper import tokenize"
   ]
  },
  {
   "cell_type": "code",
   "execution_count": 16,
   "metadata": {
    "collapsed": true
   },
   "outputs": [],
   "source": [
    "def twitterNLP(text):\n",
    "    return tokenize(text)"
   ]
  },
  {
   "cell_type": "markdown",
   "metadata": {},
   "source": [
    "### 4. Analysis"
   ]
  },
  {
   "cell_type": "markdown",
   "metadata": {},
   "source": [
    "### 4.1 Edge Cases"
   ]
  },
  {
   "cell_type": "code",
   "execution_count": 17,
   "metadata": {
    "collapsed": true
   },
   "outputs": [],
   "source": [
    "def test_print(text):\n",
    "    print '=====default===== \\n', default(text)\n",
    "    print '=====tweetNLP===== \\n', tweetNLP(text)\n",
    "    print '=====NLTK===== \\n', nltk(text)\n",
    "    print '=====Twitter NLP===== \\n', twitterNLP(text)"
   ]
  },
  {
   "cell_type": "code",
   "execution_count": 18,
   "metadata": {
    "collapsed": false
   },
   "outputs": [
    {
     "name": "stdout",
     "output_type": "stream",
     "text": [
      "=====default===== \n",
      "[u'Heard', u'about', u'the', u'stage', u'collapsing', u'at', u'the', u'Indiana', u'State', u'Fair', u'where', u'SugarLand', u'was', u'set', u'to', u'perform', u'...', u'killing', u'&', u'injuring', u'ppl', u':', u'(', u'#', u'Prayers', u'&', u'hearts', u';']\n",
      "=====tweetNLP===== \n",
      "[u'Heard', u'about', u'the', u'stage', u'collapsing', u'at', u'the', u'Indiana', u'State', u'Fair', u'where', u'SugarLand', u'was', u'set', u'to', u'perform', u'...', u'killing&injuring', u'ppl', u':(', u'#Prayers', u'\\u2665']\n",
      "=====NLTK===== \n",
      "[u'Heard', u'about', u'the', u'stage', u'collapsing', u'at', u'the', u'Indiana', u'State', u'Fair', u'where', u'SugarLand', u'was', u'set', u'to', u'perform', u'...', u'killing', u'&', u'injuring', u'ppl', u':(', u'#Prayers', u'\\u2665']\n",
      "=====Twitter NLP===== \n",
      "[u'Heard', u'about', u'the', u'stage', u'collapsing', u'at', u'the', u'Indiana', u'State', u'Fair', u'where', u'SugarLand', u'was', u'set', u'to', u'perform', u'...', u'killing&injuring', u'ppl', u':(', u'#Prayers', u'&', u'hearts', u';']\n"
     ]
    }
   ],
   "source": [
    "tweet = tweets[\"102580796497461248\"]['text']\n",
    "test_print(tweet)"
   ]
  },
  {
   "cell_type": "code",
   "execution_count": 19,
   "metadata": {
    "collapsed": false
   },
   "outputs": [
    {
     "name": "stdout",
     "output_type": "stream",
     "text": [
      "UN court to rule in Thai-Cambodia dispute: ICJ verdict due on Cambodia's request for Thailand to halt military a... http://aje.me/oFYBS7\n",
      "=====default===== \n",
      "[u'UN', u'court', u'to', u'rule', u'in', u'Thai-Cambodia', u'dispute', u':', u'ICJ', u'verdict', u'due', u'on', u'Cambodia', u\"'s\", u'request', u'for', u'Thailand', u'to', u'halt', u'military', u'a', u'...', u'http', u':', u'//aje.me/oFYBS7']\n",
      "=====tweetNLP===== \n",
      "[u'UN', u'court', u'to', u'rule', u'in', u'Thai-Cambodia', u'dispute', u':', u'ICJ', u'verdict', u'due', u'on', u\"Cambodia's\", u'request', u'for', u'Thailand', u'to', u'halt', u'military', u'a', u'...', u'http://aje.me/oFYBS7']\n",
      "=====NLTK===== \n",
      "[u'UN', u'court', u'to', u'rule', u'in', u'Thai-Cambodia', u'dispute', u':', u'ICJ', u'verdict', u'due', u'on', u\"Cambodia's\", u'request', u'for', u'Thailand', u'to', u'halt', u'military', u'a', u'...', u'http://aje.me/oFYBS7']\n",
      "=====Twitter NLP===== \n",
      "[u'UN', u'court', u'to', u'rule', u'in', u'Thai-Cambodia', u'dispute', u':', u'ICJ', u'verdict', u'due', u'on', u'Cambodia', \"'s\", u'request', u'for', u'Thailand', u'to', u'halt', u'military', u'a', u'...', u'http://aje.me/oFYBS7']\n"
     ]
    }
   ],
   "source": [
    "tweet = tweets[\"92856534454906880\"]['text']\n",
    "print tweet\n",
    "test_print(tweet)"
   ]
  },
  {
   "cell_type": "code",
   "execution_count": 20,
   "metadata": {
    "collapsed": true
   },
   "outputs": [],
   "source": [
    "golden = '/Users/erichsu/Documents/research/twikification/data/mention_detection/golden.tsv'"
   ]
  },
  {
   "cell_type": "code",
   "execution_count": 21,
   "metadata": {
    "collapsed": true
   },
   "outputs": [],
   "source": [
    "def test(model, target, tweet):\n",
    "    target_tokens = model(target)\n",
    "    tweet_tokens = model(tweet)\n",
    "    new_tokens = []\n",
    "    for t in tweet_tokens:\n",
    "        if t[0] == '#' or t[0] == '$' or t[0] == '@':\n",
    "            new_tokens.append(t[1:])\n",
    "        new_tokens.append(t)\n",
    "        \n",
    "    \n",
    "    \n",
    "    for t in target_tokens:\n",
    "        if t not in new_tokens:\n",
    "            return 0\n",
    "    return 1"
   ]
  },
  {
   "cell_type": "markdown",
   "metadata": {},
   "source": [
    "### 4.2 Evaluation"
   ]
  },
  {
   "cell_type": "markdown",
   "metadata": {},
   "source": [
    "For each tweet, we have golden mention offsets. We use the golden mention offsets to extract string surfaces."
   ]
  },
  {
   "cell_type": "code",
   "execution_count": 22,
   "metadata": {
    "collapsed": false
   },
   "outputs": [],
   "source": [
    "default_score = 0.\n",
    "tweetNLP_score = 0.\n",
    "nltk_score = 0.\n",
    "twitterNLP_score = 0.\n",
    "\n",
    "full_score = 0.\n",
    "\n",
    "with open(golden) as f:\n",
    "    for line in f:\n",
    "        segs = line.split('\\t')\n",
    "        tid = segs[0]\n",
    "        index1 = int(segs[1])\n",
    "        index2 = int(segs[2])\n",
    "        \n",
    "        try:\n",
    "            tweet = tweets[tid]['text']\n",
    "            target = tweet[index1:index2]\n",
    "        except:\n",
    "            continue\n",
    "            \n",
    "        full_score += 1 \n",
    "        default_score += test(default, target, tweet)\n",
    "        tweetNLP_score += test(tweetNLP, target, tweet)\n",
    "        nltk_score += test(nltk, target, tweet)\n",
    "        twitterNLP_score += test(twitterNLP, target, tweet)"
   ]
  },
  {
   "cell_type": "code",
   "execution_count": 23,
   "metadata": {
    "collapsed": false
   },
   "outputs": [
    {
     "name": "stdout",
     "output_type": "stream",
     "text": [
      "3372.0\n"
     ]
    }
   ],
   "source": [
    "print full_score"
   ]
  },
  {
   "cell_type": "code",
   "execution_count": 24,
   "metadata": {
    "collapsed": false
   },
   "outputs": [
    {
     "name": "stdout",
     "output_type": "stream",
     "text": [
      "3263.0 3229.0 3255.0 3309.0\n"
     ]
    }
   ],
   "source": [
    "print default_score, tweetNLP_score, nltk_score, twitterNLP_score"
   ]
  },
  {
   "cell_type": "code",
   "execution_count": 25,
   "metadata": {
    "collapsed": false
   },
   "outputs": [
    {
     "name": "stdout",
     "output_type": "stream",
     "text": [
      "[0.9676749703440095, 0.9575919335705813, 0.9653024911032029, 0.9813167259786477]\n"
     ]
    }
   ],
   "source": [
    "performance = [default_score/full_score, tweetNLP_score/full_score, nltk_score/full_score, twitterNLP_score/full_score]\n",
    "print performance"
   ]
  },
  {
   "cell_type": "code",
   "execution_count": 26,
   "metadata": {
    "collapsed": true
   },
   "outputs": [],
   "source": [
    "%matplotlib inline\n",
    "\n",
    "import matplotlib\n",
    "import numpy as np\n",
    "import matplotlib.pyplot as plt"
   ]
  },
  {
   "cell_type": "code",
   "execution_count": 30,
   "metadata": {
    "collapsed": false
   },
   "outputs": [
    {
     "data": {
      "image/png": "[encoded data removed]",
      "text/plain": [
       "<matplotlib.figure.Figure at 0x110e3c150>"
      ]
     },
     "metadata": {},
     "output_type": "display_data"
    }
   ],
   "source": [
    "import matplotlib.pyplot as plt\n",
    "plt.rcdefaults()\n",
    "import numpy as np\n",
    "import matplotlib.pyplot as plt\n",
    "\n",
    "\n",
    "# Example data\n",
    "people = ('Default', 'Tweet NLP', 'NLTK', 'Twitter NLP')\n",
    "y_pos = np.arange(len(people))\n",
    "\n",
    "plt.barh(y_pos, performance, align='center', alpha=0.4)\n",
    "plt.yticks(y_pos, people)\n",
    "plt.xlabel('Performance')\n",
    "plt.title('Tokenization match rate')\n",
    "plt.xlim(0.9,1)\n",
    "plt.show()"
   ]
  },
  {
   "cell_type": "markdown",
   "metadata": {},
   "source": [
    "### 5. Development Philosophy"
   ]
  },
  {
   "cell_type": "markdown",
   "metadata": {},
   "source": [
    "#### 5.1 Add new rule?"
   ]
  },
  {
   "cell_type": "markdown",
   "metadata": {},
   "source": [
    "development philosophy: every time you change a rule, do a diff of this\n",
    "program's output on ~100k tweets.  if you iterate through many possible rules\n",
    "and only accept the ones that seeem to result in good diffs, it's a sort of\n",
    "statistical learning with in-the-loop human evaluation :) [1]"
   ]
  },
  {
   "cell_type": "markdown",
   "metadata": {},
   "source": [
    "#### reference"
   ]
  },
  {
   "cell_type": "markdown",
   "metadata": {},
   "source": [
    "[1] twokenize.py ,Brendan O'connor (anyall.org)"
   ]
  },
  {
   "cell_type": "code",
   "execution_count": null,
   "metadata": {
    "collapsed": true
   },
   "outputs": [],
   "source": []
  }
 ],
 "metadata": {
  "kernelspec": {
   "display_name": "Python 2",
   "language": "python",
   "name": "python2"
  },
  "language_info": {
   "codemirror_mode": {
    "name": "ipython",
    "version": 2
   },
   "file_extension": ".py",
   "mimetype": "text/x-python",
   "name": "python",
   "nbconvert_exporter": "python",
   "pygments_lexer": "ipython2",
   "version": "2.7.11"
  }
 },
 "nbformat": 4,
 "nbformat_minor": 0
}
